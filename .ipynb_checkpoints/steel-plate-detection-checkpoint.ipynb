{
 "cells": [
  {
   "cell_type": "markdown",
   "metadata": {},
   "source": [
    "# Steel Plate Detection Code"
   ]
  },
  {
   "cell_type": "code",
   "execution_count": 8,
   "metadata": {
    "_cell_guid": "b1076dfc-b9ad-4769-8c92-a6c4dae69d19",
    "_uuid": "8f2839f25d086af736a60e9eeb907d3b93b6e0e5",
    "execution": {
     "iopub.execute_input": "2024-03-10T07:43:43.027421Z",
     "iopub.status.busy": "2024-03-10T07:43:43.027051Z",
     "iopub.status.idle": "2024-03-10T07:43:43.415870Z",
     "shell.execute_reply": "2024-03-10T07:43:43.415214Z",
     "shell.execute_reply.started": "2024-03-10T07:43:43.027389Z"
    }
   },
   "outputs": [
    {
     "name": "stdout",
     "output_type": "stream",
     "text": [
      "/kaggle/input/playground-series-s4e3/sample_submission.csv\n",
      "/kaggle/input/playground-series-s4e3/train.csv\n",
      "/kaggle/input/playground-series-s4e3/test.csv\n"
     ]
    },
    {
     "name": "stderr",
     "output_type": "stream",
     "text": [
      "/tmp/ipykernel_13/1229163428.py:6: DeprecationWarning: \n",
      "Pyarrow will become a required dependency of pandas in the next major release of pandas (pandas 3.0),\n",
      "(to allow more performant data types, such as the Arrow string type, and better interoperability with other libraries)\n",
      "but was not found to be installed on your system.\n",
      "If this would cause problems for you,\n",
      "please provide us feedback at https://github.com/pandas-dev/pandas/issues/54466\n",
      "        \n",
      "  import pandas as pd # data processing, CSV file I/O (e.g. pd.read_csv)\n"
     ]
    }
   ],
   "source": [
    "# This Python 3 environment comes with many helpful analytics libraries installed\n",
    "# It is defined by the kaggle/python Docker image: https://github.com/kaggle/docker-python\n",
    "# For example, here's several helpful packages to load\n",
    "\n",
    "import numpy as np # linear algebra\n",
    "import pandas as pd # data processing, CSV file I/O (e.g. pd.read_csv)\n",
    "\n",
    "# Input data files are available in the read-only \"../input/\" directory\n",
    "# For example, running this (by clicking run or pressing Shift+Enter) will list all files under the input directory\n",
    "\n",
    "import os\n",
    "for dirname, _, filenames in os.walk('/kaggle/input'):\n",
    "    for filename in filenames:\n",
    "        print(os.path.join(dirname, filename))\n",
    "\n",
    "# You can write up to 20GB to the current directory (/kaggle/working/) that gets preserved as output when you create a version using \"Save & Run All\" \n",
    "# You can also write temporary files to /kaggle/temp/, but they won't be saved outside of the current session"
   ]
  },
  {
   "cell_type": "code",
   "execution_count": 1,
   "metadata": {
    "execution": {
     "iopub.execute_input": "2024-03-10T07:44:03.623593Z",
     "iopub.status.busy": "2024-03-10T07:44:03.623285Z",
     "iopub.status.idle": "2024-03-10T07:44:04.232980Z",
     "shell.execute_reply": "2024-03-10T07:44:04.232182Z",
     "shell.execute_reply.started": "2024-03-10T07:44:03.623560Z"
    }
   },
   "outputs": [],
   "source": [
    "import matplotlib.pyplot as plt\n",
    "import seaborn as sns\n",
    "\n",
    "import pandas as pd\n",
    "import numpy as np"
   ]
  },
  {
   "cell_type": "code",
   "execution_count": 3,
   "metadata": {
    "execution": {
     "iopub.execute_input": "2024-03-10T07:44:07.358214Z",
     "iopub.status.busy": "2024-03-10T07:44:07.357730Z",
     "iopub.status.idle": "2024-03-10T07:44:07.474850Z",
     "shell.execute_reply": "2024-03-10T07:44:07.474138Z",
     "shell.execute_reply.started": "2024-03-10T07:44:07.358182Z"
    }
   },
   "outputs": [],
   "source": [
    "dfm = pd.read_csv('train.csv')"
   ]
  },
  {
   "cell_type": "code",
   "execution_count": 4,
   "metadata": {
    "execution": {
     "iopub.execute_input": "2024-03-10T07:44:08.353435Z",
     "iopub.status.busy": "2024-03-10T07:44:08.352580Z",
     "iopub.status.idle": "2024-03-10T07:44:08.359789Z",
     "shell.execute_reply": "2024-03-10T07:44:08.359095Z",
     "shell.execute_reply.started": "2024-03-10T07:44:08.353399Z"
    }
   },
   "outputs": [],
   "source": [
    "dfm['Summary'] = dfm['Pastry'] + dfm['Z_Scratch'] + dfm['K_Scatch'] + dfm['Stains'] + dfm['Dirtiness'] + dfm['Bumps'] + dfm['Other_Faults']"
   ]
  },
  {
   "cell_type": "markdown",
   "metadata": {},
   "source": [
    "Dropping rows which have more than one deffect since from the total rows of data there are only 21"
   ]
  },
  {
   "cell_type": "code",
   "execution_count": 5,
   "metadata": {
    "execution": {
     "iopub.execute_input": "2024-03-10T07:44:09.459742Z",
     "iopub.status.busy": "2024-03-10T07:44:09.459476Z",
     "iopub.status.idle": "2024-03-10T07:44:09.475043Z",
     "shell.execute_reply": "2024-03-10T07:44:09.474356Z",
     "shell.execute_reply.started": "2024-03-10T07:44:09.459716Z"
    }
   },
   "outputs": [],
   "source": [
    "df = dfm[dfm['Summary'] == 1]\n",
    "df = df.drop(columns = ['Summary'])"
   ]
  },
  {
   "cell_type": "markdown",
   "metadata": {},
   "source": [
    "Assigning values to one column instead of having a one hot encoding"
   ]
  },
  {
   "cell_type": "code",
   "execution_count": 6,
   "metadata": {
    "execution": {
     "iopub.execute_input": "2024-03-10T07:44:10.438119Z",
     "iopub.status.busy": "2024-03-10T07:44:10.437812Z",
     "iopub.status.idle": "2024-03-10T07:44:10.745800Z",
     "shell.execute_reply": "2024-03-10T07:44:10.745111Z",
     "shell.execute_reply.started": "2024-03-10T07:44:10.438090Z"
    }
   },
   "outputs": [],
   "source": [
    "faults_order = {\n",
    "    'Pastry': 0,\n",
    "    'Z_Scratch': 1,\n",
    "    'K_Scatch': 2,\n",
    "    'Stains': 3,\n",
    "    'Dirtiness': 4,\n",
    "    'Bumps': 5,\n",
    "    'Other_Faults': 6\n",
    "}\n",
    "\n",
    "# Function to assign Main_Faults based on condition\n",
    "def assign_main_faults(row):\n",
    "    for fault, value in faults_order.items():\n",
    "        if row[fault] == 1:\n",
    "            return value\n",
    "    return None  # or return np.nan if you prefer\n",
    "\n",
    "# Apply the function across the rows\n",
    "df['Main_Faults'] = df.apply(assign_main_faults, axis=1)"
   ]
  },
  {
   "cell_type": "code",
   "execution_count": 7,
   "metadata": {
    "execution": {
     "iopub.execute_input": "2024-03-10T07:44:11.348550Z",
     "iopub.status.busy": "2024-03-10T07:44:11.347928Z",
     "iopub.status.idle": "2024-03-10T07:44:11.376041Z",
     "shell.execute_reply": "2024-03-10T07:44:11.375421Z",
     "shell.execute_reply.started": "2024-03-10T07:44:11.348517Z"
    }
   },
   "outputs": [
    {
     "data": {
      "text/html": [
       "<div>\n",
       "<style scoped>\n",
       "    .dataframe tbody tr th:only-of-type {\n",
       "        vertical-align: middle;\n",
       "    }\n",
       "\n",
       "    .dataframe tbody tr th {\n",
       "        vertical-align: top;\n",
       "    }\n",
       "\n",
       "    .dataframe thead th {\n",
       "        text-align: right;\n",
       "    }\n",
       "</style>\n",
       "<table border=\"1\" class=\"dataframe\">\n",
       "  <thead>\n",
       "    <tr style=\"text-align: right;\">\n",
       "      <th></th>\n",
       "      <th>id</th>\n",
       "      <th>X_Minimum</th>\n",
       "      <th>X_Maximum</th>\n",
       "      <th>Y_Minimum</th>\n",
       "      <th>Y_Maximum</th>\n",
       "      <th>Pixels_Areas</th>\n",
       "      <th>X_Perimeter</th>\n",
       "      <th>Y_Perimeter</th>\n",
       "      <th>Sum_of_Luminosity</th>\n",
       "      <th>Minimum_of_Luminosity</th>\n",
       "      <th>...</th>\n",
       "      <th>Luminosity_Index</th>\n",
       "      <th>SigmoidOfAreas</th>\n",
       "      <th>Pastry</th>\n",
       "      <th>Z_Scratch</th>\n",
       "      <th>K_Scatch</th>\n",
       "      <th>Stains</th>\n",
       "      <th>Dirtiness</th>\n",
       "      <th>Bumps</th>\n",
       "      <th>Other_Faults</th>\n",
       "      <th>Main_Faults</th>\n",
       "    </tr>\n",
       "  </thead>\n",
       "  <tbody>\n",
       "    <tr>\n",
       "      <th>0</th>\n",
       "      <td>0</td>\n",
       "      <td>584</td>\n",
       "      <td>590</td>\n",
       "      <td>909972</td>\n",
       "      <td>909977</td>\n",
       "      <td>16</td>\n",
       "      <td>8</td>\n",
       "      <td>5</td>\n",
       "      <td>2274</td>\n",
       "      <td>113</td>\n",
       "      <td>...</td>\n",
       "      <td>-0.0104</td>\n",
       "      <td>0.1417</td>\n",
       "      <td>0</td>\n",
       "      <td>0</td>\n",
       "      <td>0</td>\n",
       "      <td>1</td>\n",
       "      <td>0</td>\n",
       "      <td>0</td>\n",
       "      <td>0</td>\n",
       "      <td>3</td>\n",
       "    </tr>\n",
       "    <tr>\n",
       "      <th>1</th>\n",
       "      <td>1</td>\n",
       "      <td>808</td>\n",
       "      <td>816</td>\n",
       "      <td>728350</td>\n",
       "      <td>728372</td>\n",
       "      <td>433</td>\n",
       "      <td>20</td>\n",
       "      <td>54</td>\n",
       "      <td>44478</td>\n",
       "      <td>70</td>\n",
       "      <td>...</td>\n",
       "      <td>-0.2997</td>\n",
       "      <td>0.9491</td>\n",
       "      <td>0</td>\n",
       "      <td>0</td>\n",
       "      <td>0</td>\n",
       "      <td>0</td>\n",
       "      <td>0</td>\n",
       "      <td>0</td>\n",
       "      <td>1</td>\n",
       "      <td>6</td>\n",
       "    </tr>\n",
       "    <tr>\n",
       "      <th>2</th>\n",
       "      <td>2</td>\n",
       "      <td>39</td>\n",
       "      <td>192</td>\n",
       "      <td>2212076</td>\n",
       "      <td>2212144</td>\n",
       "      <td>11388</td>\n",
       "      <td>705</td>\n",
       "      <td>420</td>\n",
       "      <td>1311391</td>\n",
       "      <td>29</td>\n",
       "      <td>...</td>\n",
       "      <td>-0.0944</td>\n",
       "      <td>1.0000</td>\n",
       "      <td>0</td>\n",
       "      <td>0</td>\n",
       "      <td>1</td>\n",
       "      <td>0</td>\n",
       "      <td>0</td>\n",
       "      <td>0</td>\n",
       "      <td>0</td>\n",
       "      <td>2</td>\n",
       "    </tr>\n",
       "    <tr>\n",
       "      <th>3</th>\n",
       "      <td>3</td>\n",
       "      <td>781</td>\n",
       "      <td>789</td>\n",
       "      <td>3353146</td>\n",
       "      <td>3353173</td>\n",
       "      <td>210</td>\n",
       "      <td>16</td>\n",
       "      <td>29</td>\n",
       "      <td>3202</td>\n",
       "      <td>114</td>\n",
       "      <td>...</td>\n",
       "      <td>-0.0402</td>\n",
       "      <td>0.4025</td>\n",
       "      <td>0</td>\n",
       "      <td>0</td>\n",
       "      <td>1</td>\n",
       "      <td>0</td>\n",
       "      <td>0</td>\n",
       "      <td>0</td>\n",
       "      <td>0</td>\n",
       "      <td>2</td>\n",
       "    </tr>\n",
       "    <tr>\n",
       "      <th>4</th>\n",
       "      <td>4</td>\n",
       "      <td>1540</td>\n",
       "      <td>1560</td>\n",
       "      <td>618457</td>\n",
       "      <td>618502</td>\n",
       "      <td>521</td>\n",
       "      <td>72</td>\n",
       "      <td>67</td>\n",
       "      <td>48231</td>\n",
       "      <td>82</td>\n",
       "      <td>...</td>\n",
       "      <td>-0.2455</td>\n",
       "      <td>0.9998</td>\n",
       "      <td>0</td>\n",
       "      <td>0</td>\n",
       "      <td>0</td>\n",
       "      <td>0</td>\n",
       "      <td>0</td>\n",
       "      <td>0</td>\n",
       "      <td>1</td>\n",
       "      <td>6</td>\n",
       "    </tr>\n",
       "    <tr>\n",
       "      <th>...</th>\n",
       "      <td>...</td>\n",
       "      <td>...</td>\n",
       "      <td>...</td>\n",
       "      <td>...</td>\n",
       "      <td>...</td>\n",
       "      <td>...</td>\n",
       "      <td>...</td>\n",
       "      <td>...</td>\n",
       "      <td>...</td>\n",
       "      <td>...</td>\n",
       "      <td>...</td>\n",
       "      <td>...</td>\n",
       "      <td>...</td>\n",
       "      <td>...</td>\n",
       "      <td>...</td>\n",
       "      <td>...</td>\n",
       "      <td>...</td>\n",
       "      <td>...</td>\n",
       "      <td>...</td>\n",
       "      <td>...</td>\n",
       "      <td>...</td>\n",
       "    </tr>\n",
       "    <tr>\n",
       "      <th>19214</th>\n",
       "      <td>19214</td>\n",
       "      <td>749</td>\n",
       "      <td>757</td>\n",
       "      <td>143210</td>\n",
       "      <td>143219</td>\n",
       "      <td>17</td>\n",
       "      <td>4</td>\n",
       "      <td>4</td>\n",
       "      <td>2193</td>\n",
       "      <td>122</td>\n",
       "      <td>...</td>\n",
       "      <td>0.0044</td>\n",
       "      <td>0.2901</td>\n",
       "      <td>0</td>\n",
       "      <td>0</td>\n",
       "      <td>0</td>\n",
       "      <td>1</td>\n",
       "      <td>0</td>\n",
       "      <td>0</td>\n",
       "      <td>0</td>\n",
       "      <td>3</td>\n",
       "    </tr>\n",
       "    <tr>\n",
       "      <th>19215</th>\n",
       "      <td>19215</td>\n",
       "      <td>723</td>\n",
       "      <td>735</td>\n",
       "      <td>2488529</td>\n",
       "      <td>2488541</td>\n",
       "      <td>231</td>\n",
       "      <td>17</td>\n",
       "      <td>26</td>\n",
       "      <td>27135</td>\n",
       "      <td>104</td>\n",
       "      <td>...</td>\n",
       "      <td>-0.0989</td>\n",
       "      <td>0.5378</td>\n",
       "      <td>0</td>\n",
       "      <td>0</td>\n",
       "      <td>0</td>\n",
       "      <td>0</td>\n",
       "      <td>0</td>\n",
       "      <td>0</td>\n",
       "      <td>1</td>\n",
       "      <td>6</td>\n",
       "    </tr>\n",
       "    <tr>\n",
       "      <th>19216</th>\n",
       "      <td>19216</td>\n",
       "      <td>6</td>\n",
       "      <td>31</td>\n",
       "      <td>1578055</td>\n",
       "      <td>1578129</td>\n",
       "      <td>780</td>\n",
       "      <td>114</td>\n",
       "      <td>98</td>\n",
       "      <td>71112</td>\n",
       "      <td>41</td>\n",
       "      <td>...</td>\n",
       "      <td>-0.4283</td>\n",
       "      <td>0.9997</td>\n",
       "      <td>1</td>\n",
       "      <td>0</td>\n",
       "      <td>0</td>\n",
       "      <td>0</td>\n",
       "      <td>0</td>\n",
       "      <td>0</td>\n",
       "      <td>0</td>\n",
       "      <td>0</td>\n",
       "    </tr>\n",
       "    <tr>\n",
       "      <th>19217</th>\n",
       "      <td>19217</td>\n",
       "      <td>9</td>\n",
       "      <td>18</td>\n",
       "      <td>1713172</td>\n",
       "      <td>1713184</td>\n",
       "      <td>126</td>\n",
       "      <td>13</td>\n",
       "      <td>26</td>\n",
       "      <td>14808</td>\n",
       "      <td>88</td>\n",
       "      <td>...</td>\n",
       "      <td>-0.1162</td>\n",
       "      <td>0.3509</td>\n",
       "      <td>0</td>\n",
       "      <td>0</td>\n",
       "      <td>0</td>\n",
       "      <td>0</td>\n",
       "      <td>0</td>\n",
       "      <td>0</td>\n",
       "      <td>1</td>\n",
       "      <td>6</td>\n",
       "    </tr>\n",
       "    <tr>\n",
       "      <th>19218</th>\n",
       "      <td>19218</td>\n",
       "      <td>1505</td>\n",
       "      <td>1525</td>\n",
       "      <td>1733458</td>\n",
       "      <td>1733471</td>\n",
       "      <td>182</td>\n",
       "      <td>24</td>\n",
       "      <td>33</td>\n",
       "      <td>22785</td>\n",
       "      <td>98</td>\n",
       "      <td>...</td>\n",
       "      <td>-0.1120</td>\n",
       "      <td>0.6619</td>\n",
       "      <td>0</td>\n",
       "      <td>0</td>\n",
       "      <td>0</td>\n",
       "      <td>0</td>\n",
       "      <td>0</td>\n",
       "      <td>1</td>\n",
       "      <td>0</td>\n",
       "      <td>5</td>\n",
       "    </tr>\n",
       "  </tbody>\n",
       "</table>\n",
       "<p>18380 rows × 36 columns</p>\n",
       "</div>"
      ],
      "text/plain": [
       "          id  X_Minimum  X_Maximum  Y_Minimum  Y_Maximum  Pixels_Areas  \\\n",
       "0          0        584        590     909972     909977            16   \n",
       "1          1        808        816     728350     728372           433   \n",
       "2          2         39        192    2212076    2212144         11388   \n",
       "3          3        781        789    3353146    3353173           210   \n",
       "4          4       1540       1560     618457     618502           521   \n",
       "...      ...        ...        ...        ...        ...           ...   \n",
       "19214  19214        749        757     143210     143219            17   \n",
       "19215  19215        723        735    2488529    2488541           231   \n",
       "19216  19216          6         31    1578055    1578129           780   \n",
       "19217  19217          9         18    1713172    1713184           126   \n",
       "19218  19218       1505       1525    1733458    1733471           182   \n",
       "\n",
       "       X_Perimeter  Y_Perimeter  Sum_of_Luminosity  Minimum_of_Luminosity  \\\n",
       "0                8            5               2274                    113   \n",
       "1               20           54              44478                     70   \n",
       "2              705          420            1311391                     29   \n",
       "3               16           29               3202                    114   \n",
       "4               72           67              48231                     82   \n",
       "...            ...          ...                ...                    ...   \n",
       "19214            4            4               2193                    122   \n",
       "19215           17           26              27135                    104   \n",
       "19216          114           98              71112                     41   \n",
       "19217           13           26              14808                     88   \n",
       "19218           24           33              22785                     98   \n",
       "\n",
       "       ...  Luminosity_Index  SigmoidOfAreas  Pastry  Z_Scratch  K_Scatch  \\\n",
       "0      ...           -0.0104          0.1417       0          0         0   \n",
       "1      ...           -0.2997          0.9491       0          0         0   \n",
       "2      ...           -0.0944          1.0000       0          0         1   \n",
       "3      ...           -0.0402          0.4025       0          0         1   \n",
       "4      ...           -0.2455          0.9998       0          0         0   \n",
       "...    ...               ...             ...     ...        ...       ...   \n",
       "19214  ...            0.0044          0.2901       0          0         0   \n",
       "19215  ...           -0.0989          0.5378       0          0         0   \n",
       "19216  ...           -0.4283          0.9997       1          0         0   \n",
       "19217  ...           -0.1162          0.3509       0          0         0   \n",
       "19218  ...           -0.1120          0.6619       0          0         0   \n",
       "\n",
       "       Stains  Dirtiness  Bumps  Other_Faults  Main_Faults  \n",
       "0           1          0      0             0            3  \n",
       "1           0          0      0             1            6  \n",
       "2           0          0      0             0            2  \n",
       "3           0          0      0             0            2  \n",
       "4           0          0      0             1            6  \n",
       "...       ...        ...    ...           ...          ...  \n",
       "19214       1          0      0             0            3  \n",
       "19215       0          0      0             1            6  \n",
       "19216       0          0      0             0            0  \n",
       "19217       0          0      0             1            6  \n",
       "19218       0          0      1             0            5  \n",
       "\n",
       "[18380 rows x 36 columns]"
      ]
     },
     "execution_count": 7,
     "metadata": {},
     "output_type": "execute_result"
    }
   ],
   "source": [
    "df"
   ]
  },
  {
   "cell_type": "code",
   "execution_count": 8,
   "metadata": {
    "execution": {
     "iopub.execute_input": "2024-03-10T07:44:11.566587Z",
     "iopub.status.busy": "2024-03-10T07:44:11.566324Z",
     "iopub.status.idle": "2024-03-10T07:44:13.676482Z",
     "shell.execute_reply": "2024-03-10T07:44:13.675711Z",
     "shell.execute_reply.started": "2024-03-10T07:44:11.566562Z"
    }
   },
   "outputs": [
    {
     "data": {
      "image/png": "[encoded data removed]",
      "text/plain": [
       "<Figure size 1200x1000 with 30 Axes>"
      ]
     },
     "metadata": {},
     "output_type": "display_data"
    }
   ],
   "source": [
    "features = df.columns[:-7][1:]\n",
    "df[features].plot(kind = 'box', subplots = True, layout = (5, 6), figsize = (12, 10))\n",
    "plt.show()"
   ]
  },
  {
   "cell_type": "markdown",
   "metadata": {},
   "source": [
    "## Removing Outliers"
   ]
  },
  {
   "cell_type": "code",
   "execution_count": 9,
   "metadata": {
    "execution": {
     "iopub.execute_input": "2024-03-10T07:44:14.390223Z",
     "iopub.status.busy": "2024-03-10T07:44:14.389479Z",
     "iopub.status.idle": "2024-03-10T07:44:14.520486Z",
     "shell.execute_reply": "2024-03-10T07:44:14.519856Z",
     "shell.execute_reply.started": "2024-03-10T07:44:14.390192Z"
    }
   },
   "outputs": [
    {
     "data": {
      "text/plain": [
       "<Axes: >"
      ]
     },
     "execution_count": 9,
     "metadata": {},
     "output_type": "execute_result"
    },
    {
     "data": {
      "image/png": "[encoded data removed]",
      "text/plain": [
       "<Figure size 640x480 with 1 Axes>"
      ]
     },
     "metadata": {},
     "output_type": "display_data"
    }
   ],
   "source": [
    "df['Pixels_Areas'].plot(kind = 'box')"
   ]
  },
  {
   "cell_type": "code",
   "execution_count": 10,
   "metadata": {
    "execution": {
     "iopub.execute_input": "2024-03-10T07:44:15.802607Z",
     "iopub.status.busy": "2024-03-10T07:44:15.802256Z",
     "iopub.status.idle": "2024-03-10T07:44:15.808904Z",
     "shell.execute_reply": "2024-03-10T07:44:15.808189Z",
     "shell.execute_reply.started": "2024-03-10T07:44:15.802577Z"
    }
   },
   "outputs": [
    {
     "data": {
      "text/plain": [
       "5"
      ]
     },
     "execution_count": 10,
     "metadata": {},
     "output_type": "execute_result"
    }
   ],
   "source": [
    "df_o = df[df['Pixels_Areas'] > 28000]\n",
    "len(df_o)"
   ]
  },
  {
   "cell_type": "code",
   "execution_count": 11,
   "metadata": {
    "execution": {
     "iopub.execute_input": "2024-03-10T07:44:16.247963Z",
     "iopub.status.busy": "2024-03-10T07:44:16.247694Z",
     "iopub.status.idle": "2024-03-10T07:44:16.253333Z",
     "shell.execute_reply": "2024-03-10T07:44:16.252601Z",
     "shell.execute_reply.started": "2024-03-10T07:44:16.247938Z"
    }
   },
   "outputs": [],
   "source": [
    "# Pixel Areas Outlier Removed\n",
    "df = df[df['Pixels_Areas'] < 30000]"
   ]
  },
  {
   "cell_type": "code",
   "execution_count": 12,
   "metadata": {
    "execution": {
     "iopub.execute_input": "2024-03-10T07:44:16.669166Z",
     "iopub.status.busy": "2024-03-10T07:44:16.668914Z",
     "iopub.status.idle": "2024-03-10T07:44:16.785160Z",
     "shell.execute_reply": "2024-03-10T07:44:16.784494Z",
     "shell.execute_reply.started": "2024-03-10T07:44:16.669142Z"
    }
   },
   "outputs": [
    {
     "data": {
      "text/plain": [
       "<Axes: >"
      ]
     },
     "execution_count": 12,
     "metadata": {},
     "output_type": "execute_result"
    },
    {
     "data": {
      "image/png": "[encoded data removed]",
      "text/plain": [
       "<Figure size 640x480 with 1 Axes>"
      ]
     },
     "metadata": {},
     "output_type": "display_data"
    }
   ],
   "source": [
    "df['X_Perimeter'].plot(kind = 'box')"
   ]
  },
  {
   "cell_type": "code",
   "execution_count": 13,
   "metadata": {
    "execution": {
     "iopub.execute_input": "2024-03-10T07:44:17.256348Z",
     "iopub.status.busy": "2024-03-10T07:44:17.256048Z",
     "iopub.status.idle": "2024-03-10T07:44:17.264875Z",
     "shell.execute_reply": "2024-03-10T07:44:17.264118Z",
     "shell.execute_reply.started": "2024-03-10T07:44:17.256320Z"
    }
   },
   "outputs": [],
   "source": [
    "# X Perimeter Outlier Removed\n",
    "df = df[df['X_Perimeter'] < 3000]"
   ]
  },
  {
   "cell_type": "code",
   "execution_count": 14,
   "metadata": {
    "execution": {
     "iopub.execute_input": "2024-03-10T07:44:18.322324Z",
     "iopub.status.busy": "2024-03-10T07:44:18.321992Z",
     "iopub.status.idle": "2024-03-10T07:44:18.456132Z",
     "shell.execute_reply": "2024-03-10T07:44:18.455398Z",
     "shell.execute_reply.started": "2024-03-10T07:44:18.322297Z"
    }
   },
   "outputs": [
    {
     "data": {
      "text/plain": [
       "<Axes: >"
      ]
     },
     "execution_count": 14,
     "metadata": {},
     "output_type": "execute_result"
    },
    {
     "data": {
      "image/png": "[encoded data removed]",
      "text/plain": [
       "<Figure size 640x480 with 1 Axes>"
      ]
     },
     "metadata": {},
     "output_type": "display_data"
    }
   ],
   "source": [
    "df['Sum_of_Luminosity'].plot(kind = 'box')"
   ]
  },
  {
   "cell_type": "code",
   "execution_count": 15,
   "metadata": {
    "execution": {
     "iopub.execute_input": "2024-03-10T07:44:18.807279Z",
     "iopub.status.busy": "2024-03-10T07:44:18.806884Z",
     "iopub.status.idle": "2024-03-10T07:44:18.813914Z",
     "shell.execute_reply": "2024-03-10T07:44:18.813212Z",
     "shell.execute_reply.started": "2024-03-10T07:44:18.807246Z"
    }
   },
   "outputs": [],
   "source": [
    "# Sum of Luminosity Outlier Removed\n",
    "df = df[df['Sum_of_Luminosity'] < 1000000]"
   ]
  },
  {
   "cell_type": "code",
   "execution_count": 16,
   "metadata": {
    "execution": {
     "iopub.execute_input": "2024-03-10T07:44:20.132203Z",
     "iopub.status.busy": "2024-03-10T07:44:20.131850Z",
     "iopub.status.idle": "2024-03-10T07:44:21.978698Z",
     "shell.execute_reply": "2024-03-10T07:44:21.978048Z",
     "shell.execute_reply.started": "2024-03-10T07:44:20.132173Z"
    }
   },
   "outputs": [
    {
     "data": {
      "image/png": "[encoded data removed]",
      "text/plain": [
       "<Figure size 1200x1000 with 30 Axes>"
      ]
     },
     "metadata": {},
     "output_type": "display_data"
    }
   ],
   "source": [
    "# Check one more time to make sure there are no more outliers\n",
    "df[features].plot(kind = 'box', subplots = True, layout = (5, 6), figsize = (12, 10))\n",
    "plt.show()"
   ]
  },
  {
   "cell_type": "code",
   "execution_count": 17,
   "metadata": {
    "execution": {
     "iopub.execute_input": "2024-03-10T07:44:21.980127Z",
     "iopub.status.busy": "2024-03-10T07:44:21.979892Z",
     "iopub.status.idle": "2024-03-10T07:44:21.984624Z",
     "shell.execute_reply": "2024-03-10T07:44:21.983945Z",
     "shell.execute_reply.started": "2024-03-10T07:44:21.980103Z"
    }
   },
   "outputs": [],
   "source": [
    "df = df.drop(columns = ['id', 'Pastry', 'Z_Scratch', 'K_Scatch', 'Stains', 'Dirtiness', 'Bumps', 'Other_Faults'])"
   ]
  },
  {
   "cell_type": "markdown",
   "metadata": {},
   "source": [
    "## Showing Balance of data"
   ]
  },
  {
   "cell_type": "code",
   "execution_count": 18,
   "metadata": {
    "execution": {
     "iopub.execute_input": "2024-03-10T07:44:22.410200Z",
     "iopub.status.busy": "2024-03-10T07:44:22.409952Z",
     "iopub.status.idle": "2024-03-10T07:44:22.413709Z",
     "shell.execute_reply": "2024-03-10T07:44:22.412946Z",
     "shell.execute_reply.started": "2024-03-10T07:44:22.410176Z"
    }
   },
   "outputs": [],
   "source": [
    "features = df.columns[:-1]\n",
    "label = df.columns[-1]"
   ]
  },
  {
   "cell_type": "code",
   "execution_count": 19,
   "metadata": {
    "execution": {
     "iopub.execute_input": "2024-03-10T07:44:24.112527Z",
     "iopub.status.busy": "2024-03-10T07:44:24.112213Z",
     "iopub.status.idle": "2024-03-10T07:44:24.264517Z",
     "shell.execute_reply": "2024-03-10T07:44:24.263787Z",
     "shell.execute_reply.started": "2024-03-10T07:44:24.112500Z"
    }
   },
   "outputs": [
    {
     "data": {
      "text/plain": [
       "<Axes: xlabel='Main_Faults'>"
      ]
     },
     "execution_count": 19,
     "metadata": {},
     "output_type": "execute_result"
    },
    {
     "data": {
      "image/png": "[encoded data removed]",
      "text/plain": [
       "<Figure size 1200x500 with 1 Axes>"
      ]
     },
     "metadata": {},
     "output_type": "display_data"
    }
   ],
   "source": [
    "X = df[features]\n",
    "y = df[label]\n",
    "y.value_counts().plot(kind = 'bar', figsize = (12, 5))"
   ]
  },
  {
   "cell_type": "code",
   "execution_count": 20,
   "metadata": {
    "execution": {
     "iopub.execute_input": "2024-03-10T07:44:24.678690Z",
     "iopub.status.busy": "2024-03-10T07:44:24.678377Z",
     "iopub.status.idle": "2024-03-10T07:44:24.702319Z",
     "shell.execute_reply": "2024-03-10T07:44:24.701645Z",
     "shell.execute_reply.started": "2024-03-10T07:44:24.678663Z"
    }
   },
   "outputs": [
    {
     "data": {
      "text/html": [
       "<div>\n",
       "<style scoped>\n",
       "    .dataframe tbody tr th:only-of-type {\n",
       "        vertical-align: middle;\n",
       "    }\n",
       "\n",
       "    .dataframe tbody tr th {\n",
       "        vertical-align: top;\n",
       "    }\n",
       "\n",
       "    .dataframe thead th {\n",
       "        text-align: right;\n",
       "    }\n",
       "</style>\n",
       "<table border=\"1\" class=\"dataframe\">\n",
       "  <thead>\n",
       "    <tr style=\"text-align: right;\">\n",
       "      <th></th>\n",
       "      <th>X_Minimum</th>\n",
       "      <th>X_Maximum</th>\n",
       "      <th>Y_Minimum</th>\n",
       "      <th>Y_Maximum</th>\n",
       "      <th>Pixels_Areas</th>\n",
       "      <th>X_Perimeter</th>\n",
       "      <th>Y_Perimeter</th>\n",
       "      <th>Sum_of_Luminosity</th>\n",
       "      <th>Minimum_of_Luminosity</th>\n",
       "      <th>Maximum_of_Luminosity</th>\n",
       "      <th>...</th>\n",
       "      <th>Outside_X_Index</th>\n",
       "      <th>Edges_X_Index</th>\n",
       "      <th>Edges_Y_Index</th>\n",
       "      <th>Outside_Global_Index</th>\n",
       "      <th>LogOfAreas</th>\n",
       "      <th>Log_X_Index</th>\n",
       "      <th>Log_Y_Index</th>\n",
       "      <th>Orientation_Index</th>\n",
       "      <th>Luminosity_Index</th>\n",
       "      <th>SigmoidOfAreas</th>\n",
       "    </tr>\n",
       "  </thead>\n",
       "  <tbody>\n",
       "    <tr>\n",
       "      <th>0</th>\n",
       "      <td>584</td>\n",
       "      <td>590</td>\n",
       "      <td>909972</td>\n",
       "      <td>909977</td>\n",
       "      <td>16</td>\n",
       "      <td>8</td>\n",
       "      <td>5</td>\n",
       "      <td>2274</td>\n",
       "      <td>113</td>\n",
       "      <td>140</td>\n",
       "      <td>...</td>\n",
       "      <td>0.0059</td>\n",
       "      <td>1.0000</td>\n",
       "      <td>1.0000</td>\n",
       "      <td>0.0</td>\n",
       "      <td>1.2041</td>\n",
       "      <td>0.9031</td>\n",
       "      <td>0.6990</td>\n",
       "      <td>-0.5000</td>\n",
       "      <td>-0.0104</td>\n",
       "      <td>0.1417</td>\n",
       "    </tr>\n",
       "    <tr>\n",
       "      <th>1</th>\n",
       "      <td>808</td>\n",
       "      <td>816</td>\n",
       "      <td>728350</td>\n",
       "      <td>728372</td>\n",
       "      <td>433</td>\n",
       "      <td>20</td>\n",
       "      <td>54</td>\n",
       "      <td>44478</td>\n",
       "      <td>70</td>\n",
       "      <td>111</td>\n",
       "      <td>...</td>\n",
       "      <td>0.0044</td>\n",
       "      <td>0.2500</td>\n",
       "      <td>1.0000</td>\n",
       "      <td>1.0</td>\n",
       "      <td>2.6365</td>\n",
       "      <td>0.7782</td>\n",
       "      <td>1.7324</td>\n",
       "      <td>0.7419</td>\n",
       "      <td>-0.2997</td>\n",
       "      <td>0.9491</td>\n",
       "    </tr>\n",
       "    <tr>\n",
       "      <th>3</th>\n",
       "      <td>781</td>\n",
       "      <td>789</td>\n",
       "      <td>3353146</td>\n",
       "      <td>3353173</td>\n",
       "      <td>210</td>\n",
       "      <td>16</td>\n",
       "      <td>29</td>\n",
       "      <td>3202</td>\n",
       "      <td>114</td>\n",
       "      <td>134</td>\n",
       "      <td>...</td>\n",
       "      <td>0.0044</td>\n",
       "      <td>0.3750</td>\n",
       "      <td>0.9310</td>\n",
       "      <td>1.0</td>\n",
       "      <td>2.3222</td>\n",
       "      <td>0.7782</td>\n",
       "      <td>1.4314</td>\n",
       "      <td>0.6667</td>\n",
       "      <td>-0.0402</td>\n",
       "      <td>0.4025</td>\n",
       "    </tr>\n",
       "    <tr>\n",
       "      <th>4</th>\n",
       "      <td>1540</td>\n",
       "      <td>1560</td>\n",
       "      <td>618457</td>\n",
       "      <td>618502</td>\n",
       "      <td>521</td>\n",
       "      <td>72</td>\n",
       "      <td>67</td>\n",
       "      <td>48231</td>\n",
       "      <td>82</td>\n",
       "      <td>111</td>\n",
       "      <td>...</td>\n",
       "      <td>0.0192</td>\n",
       "      <td>0.2105</td>\n",
       "      <td>0.9861</td>\n",
       "      <td>1.0</td>\n",
       "      <td>2.7694</td>\n",
       "      <td>1.4150</td>\n",
       "      <td>1.8808</td>\n",
       "      <td>0.9158</td>\n",
       "      <td>-0.2455</td>\n",
       "      <td>0.9998</td>\n",
       "    </tr>\n",
       "    <tr>\n",
       "      <th>5</th>\n",
       "      <td>1009</td>\n",
       "      <td>1033</td>\n",
       "      <td>899231</td>\n",
       "      <td>899307</td>\n",
       "      <td>409</td>\n",
       "      <td>22</td>\n",
       "      <td>26</td>\n",
       "      <td>47513</td>\n",
       "      <td>86</td>\n",
       "      <td>118</td>\n",
       "      <td>...</td>\n",
       "      <td>0.0053</td>\n",
       "      <td>0.5454</td>\n",
       "      <td>1.0000</td>\n",
       "      <td>1.0</td>\n",
       "      <td>2.6117</td>\n",
       "      <td>0.9542</td>\n",
       "      <td>1.4150</td>\n",
       "      <td>0.5909</td>\n",
       "      <td>-0.1890</td>\n",
       "      <td>0.8749</td>\n",
       "    </tr>\n",
       "    <tr>\n",
       "      <th>...</th>\n",
       "      <td>...</td>\n",
       "      <td>...</td>\n",
       "      <td>...</td>\n",
       "      <td>...</td>\n",
       "      <td>...</td>\n",
       "      <td>...</td>\n",
       "      <td>...</td>\n",
       "      <td>...</td>\n",
       "      <td>...</td>\n",
       "      <td>...</td>\n",
       "      <td>...</td>\n",
       "      <td>...</td>\n",
       "      <td>...</td>\n",
       "      <td>...</td>\n",
       "      <td>...</td>\n",
       "      <td>...</td>\n",
       "      <td>...</td>\n",
       "      <td>...</td>\n",
       "      <td>...</td>\n",
       "      <td>...</td>\n",
       "      <td>...</td>\n",
       "    </tr>\n",
       "    <tr>\n",
       "      <th>19214</th>\n",
       "      <td>749</td>\n",
       "      <td>757</td>\n",
       "      <td>143210</td>\n",
       "      <td>143219</td>\n",
       "      <td>17</td>\n",
       "      <td>4</td>\n",
       "      <td>4</td>\n",
       "      <td>2193</td>\n",
       "      <td>122</td>\n",
       "      <td>140</td>\n",
       "      <td>...</td>\n",
       "      <td>0.0044</td>\n",
       "      <td>1.0000</td>\n",
       "      <td>0.8000</td>\n",
       "      <td>0.0</td>\n",
       "      <td>1.2305</td>\n",
       "      <td>0.7782</td>\n",
       "      <td>0.6021</td>\n",
       "      <td>-0.1429</td>\n",
       "      <td>0.0044</td>\n",
       "      <td>0.2901</td>\n",
       "    </tr>\n",
       "    <tr>\n",
       "      <th>19215</th>\n",
       "      <td>723</td>\n",
       "      <td>735</td>\n",
       "      <td>2488529</td>\n",
       "      <td>2488541</td>\n",
       "      <td>231</td>\n",
       "      <td>17</td>\n",
       "      <td>26</td>\n",
       "      <td>27135</td>\n",
       "      <td>104</td>\n",
       "      <td>133</td>\n",
       "      <td>...</td>\n",
       "      <td>0.0065</td>\n",
       "      <td>0.7333</td>\n",
       "      <td>0.9216</td>\n",
       "      <td>1.0</td>\n",
       "      <td>2.3636</td>\n",
       "      <td>1.0414</td>\n",
       "      <td>1.4150</td>\n",
       "      <td>0.7222</td>\n",
       "      <td>-0.0989</td>\n",
       "      <td>0.5378</td>\n",
       "    </tr>\n",
       "    <tr>\n",
       "      <th>19216</th>\n",
       "      <td>6</td>\n",
       "      <td>31</td>\n",
       "      <td>1578055</td>\n",
       "      <td>1578129</td>\n",
       "      <td>780</td>\n",
       "      <td>114</td>\n",
       "      <td>98</td>\n",
       "      <td>71112</td>\n",
       "      <td>41</td>\n",
       "      <td>94</td>\n",
       "      <td>...</td>\n",
       "      <td>0.0199</td>\n",
       "      <td>0.1862</td>\n",
       "      <td>0.9554</td>\n",
       "      <td>1.0</td>\n",
       "      <td>2.8921</td>\n",
       "      <td>1.4314</td>\n",
       "      <td>1.8692</td>\n",
       "      <td>0.7719</td>\n",
       "      <td>-0.4283</td>\n",
       "      <td>0.9997</td>\n",
       "    </tr>\n",
       "    <tr>\n",
       "      <th>19217</th>\n",
       "      <td>9</td>\n",
       "      <td>18</td>\n",
       "      <td>1713172</td>\n",
       "      <td>1713184</td>\n",
       "      <td>126</td>\n",
       "      <td>13</td>\n",
       "      <td>26</td>\n",
       "      <td>14808</td>\n",
       "      <td>88</td>\n",
       "      <td>132</td>\n",
       "      <td>...</td>\n",
       "      <td>0.0068</td>\n",
       "      <td>0.7692</td>\n",
       "      <td>1.0000</td>\n",
       "      <td>1.0</td>\n",
       "      <td>2.1004</td>\n",
       "      <td>1.0414</td>\n",
       "      <td>1.4150</td>\n",
       "      <td>0.9610</td>\n",
       "      <td>-0.1162</td>\n",
       "      <td>0.3509</td>\n",
       "    </tr>\n",
       "    <tr>\n",
       "      <th>19218</th>\n",
       "      <td>1505</td>\n",
       "      <td>1525</td>\n",
       "      <td>1733458</td>\n",
       "      <td>1733471</td>\n",
       "      <td>182</td>\n",
       "      <td>24</td>\n",
       "      <td>33</td>\n",
       "      <td>22785</td>\n",
       "      <td>98</td>\n",
       "      <td>143</td>\n",
       "      <td>...</td>\n",
       "      <td>0.0083</td>\n",
       "      <td>0.6250</td>\n",
       "      <td>1.0000</td>\n",
       "      <td>1.0</td>\n",
       "      <td>2.2601</td>\n",
       "      <td>1.1461</td>\n",
       "      <td>1.5051</td>\n",
       "      <td>0.5263</td>\n",
       "      <td>-0.1120</td>\n",
       "      <td>0.6619</td>\n",
       "    </tr>\n",
       "  </tbody>\n",
       "</table>\n",
       "<p>17362 rows × 27 columns</p>\n",
       "</div>"
      ],
      "text/plain": [
       "       X_Minimum  X_Maximum  Y_Minimum  Y_Maximum  Pixels_Areas  X_Perimeter  \\\n",
       "0            584        590     909972     909977            16            8   \n",
       "1            808        816     728350     728372           433           20   \n",
       "3            781        789    3353146    3353173           210           16   \n",
       "4           1540       1560     618457     618502           521           72   \n",
       "5           1009       1033     899231     899307           409           22   \n",
       "...          ...        ...        ...        ...           ...          ...   \n",
       "19214        749        757     143210     143219            17            4   \n",
       "19215        723        735    2488529    2488541           231           17   \n",
       "19216          6         31    1578055    1578129           780          114   \n",
       "19217          9         18    1713172    1713184           126           13   \n",
       "19218       1505       1525    1733458    1733471           182           24   \n",
       "\n",
       "       Y_Perimeter  Sum_of_Luminosity  Minimum_of_Luminosity  \\\n",
       "0                5               2274                    113   \n",
       "1               54              44478                     70   \n",
       "3               29               3202                    114   \n",
       "4               67              48231                     82   \n",
       "5               26              47513                     86   \n",
       "...            ...                ...                    ...   \n",
       "19214            4               2193                    122   \n",
       "19215           26              27135                    104   \n",
       "19216           98              71112                     41   \n",
       "19217           26              14808                     88   \n",
       "19218           33              22785                     98   \n",
       "\n",
       "       Maximum_of_Luminosity  ...  Outside_X_Index  Edges_X_Index  \\\n",
       "0                        140  ...           0.0059         1.0000   \n",
       "1                        111  ...           0.0044         0.2500   \n",
       "3                        134  ...           0.0044         0.3750   \n",
       "4                        111  ...           0.0192         0.2105   \n",
       "5                        118  ...           0.0053         0.5454   \n",
       "...                      ...  ...              ...            ...   \n",
       "19214                    140  ...           0.0044         1.0000   \n",
       "19215                    133  ...           0.0065         0.7333   \n",
       "19216                     94  ...           0.0199         0.1862   \n",
       "19217                    132  ...           0.0068         0.7692   \n",
       "19218                    143  ...           0.0083         0.6250   \n",
       "\n",
       "       Edges_Y_Index  Outside_Global_Index  LogOfAreas  Log_X_Index  \\\n",
       "0             1.0000                   0.0      1.2041       0.9031   \n",
       "1             1.0000                   1.0      2.6365       0.7782   \n",
       "3             0.9310                   1.0      2.3222       0.7782   \n",
       "4             0.9861                   1.0      2.7694       1.4150   \n",
       "5             1.0000                   1.0      2.6117       0.9542   \n",
       "...              ...                   ...         ...          ...   \n",
       "19214         0.8000                   0.0      1.2305       0.7782   \n",
       "19215         0.9216                   1.0      2.3636       1.0414   \n",
       "19216         0.9554                   1.0      2.8921       1.4314   \n",
       "19217         1.0000                   1.0      2.1004       1.0414   \n",
       "19218         1.0000                   1.0      2.2601       1.1461   \n",
       "\n",
       "       Log_Y_Index  Orientation_Index  Luminosity_Index  SigmoidOfAreas  \n",
       "0           0.6990            -0.5000           -0.0104          0.1417  \n",
       "1           1.7324             0.7419           -0.2997          0.9491  \n",
       "3           1.4314             0.6667           -0.0402          0.4025  \n",
       "4           1.8808             0.9158           -0.2455          0.9998  \n",
       "5           1.4150             0.5909           -0.1890          0.8749  \n",
       "...            ...                ...               ...             ...  \n",
       "19214       0.6021            -0.1429            0.0044          0.2901  \n",
       "19215       1.4150             0.7222           -0.0989          0.5378  \n",
       "19216       1.8692             0.7719           -0.4283          0.9997  \n",
       "19217       1.4150             0.9610           -0.1162          0.3509  \n",
       "19218       1.5051             0.5263           -0.1120          0.6619  \n",
       "\n",
       "[17362 rows x 27 columns]"
      ]
     },
     "execution_count": 20,
     "metadata": {},
     "output_type": "execute_result"
    }
   ],
   "source": [
    "X"
   ]
  },
  {
   "cell_type": "code",
   "execution_count": 21,
   "metadata": {
    "execution": {
     "iopub.execute_input": "2024-03-10T07:44:26.248041Z",
     "iopub.status.busy": "2024-03-10T07:44:26.247679Z",
     "iopub.status.idle": "2024-03-10T07:44:26.328737Z",
     "shell.execute_reply": "2024-03-10T07:44:26.328099Z",
     "shell.execute_reply.started": "2024-03-10T07:44:26.248011Z"
    }
   },
   "outputs": [],
   "source": [
    "from sklearn.preprocessing import MinMaxScaler, StandardScaler"
   ]
  },
  {
   "cell_type": "code",
   "execution_count": 22,
   "metadata": {
    "execution": {
     "iopub.execute_input": "2024-03-10T07:44:28.756698Z",
     "iopub.status.busy": "2024-03-10T07:44:28.756099Z",
     "iopub.status.idle": "2024-03-10T07:44:28.767155Z",
     "shell.execute_reply": "2024-03-10T07:44:28.766363Z",
     "shell.execute_reply.started": "2024-03-10T07:44:28.756661Z"
    }
   },
   "outputs": [],
   "source": [
    "# Scale data\n",
    "mm = MinMaxScaler()\n",
    "s = StandardScaler()\n",
    "df_s = mm.fit_transform(X)\n",
    "df_s = pd.DataFrame(X, columns = X.columns)"
   ]
  },
  {
   "cell_type": "code",
   "execution_count": 23,
   "metadata": {
    "execution": {
     "iopub.execute_input": "2024-03-10T07:44:29.949965Z",
     "iopub.status.busy": "2024-03-10T07:44:29.949630Z",
     "iopub.status.idle": "2024-03-10T07:44:29.972898Z",
     "shell.execute_reply": "2024-03-10T07:44:29.972246Z",
     "shell.execute_reply.started": "2024-03-10T07:44:29.949936Z"
    }
   },
   "outputs": [
    {
     "data": {
      "text/html": [
       "<div>\n",
       "<style scoped>\n",
       "    .dataframe tbody tr th:only-of-type {\n",
       "        vertical-align: middle;\n",
       "    }\n",
       "\n",
       "    .dataframe tbody tr th {\n",
       "        vertical-align: top;\n",
       "    }\n",
       "\n",
       "    .dataframe thead th {\n",
       "        text-align: right;\n",
       "    }\n",
       "</style>\n",
       "<table border=\"1\" class=\"dataframe\">\n",
       "  <thead>\n",
       "    <tr style=\"text-align: right;\">\n",
       "      <th></th>\n",
       "      <th>X_Minimum</th>\n",
       "      <th>X_Maximum</th>\n",
       "      <th>Y_Minimum</th>\n",
       "      <th>Y_Maximum</th>\n",
       "      <th>Pixels_Areas</th>\n",
       "      <th>X_Perimeter</th>\n",
       "      <th>Y_Perimeter</th>\n",
       "      <th>Sum_of_Luminosity</th>\n",
       "      <th>Minimum_of_Luminosity</th>\n",
       "      <th>Maximum_of_Luminosity</th>\n",
       "      <th>...</th>\n",
       "      <th>Outside_X_Index</th>\n",
       "      <th>Edges_X_Index</th>\n",
       "      <th>Edges_Y_Index</th>\n",
       "      <th>Outside_Global_Index</th>\n",
       "      <th>LogOfAreas</th>\n",
       "      <th>Log_X_Index</th>\n",
       "      <th>Log_Y_Index</th>\n",
       "      <th>Orientation_Index</th>\n",
       "      <th>Luminosity_Index</th>\n",
       "      <th>SigmoidOfAreas</th>\n",
       "    </tr>\n",
       "  </thead>\n",
       "  <tbody>\n",
       "    <tr>\n",
       "      <th>0</th>\n",
       "      <td>584</td>\n",
       "      <td>590</td>\n",
       "      <td>909972</td>\n",
       "      <td>909977</td>\n",
       "      <td>16</td>\n",
       "      <td>8</td>\n",
       "      <td>5</td>\n",
       "      <td>2274</td>\n",
       "      <td>113</td>\n",
       "      <td>140</td>\n",
       "      <td>...</td>\n",
       "      <td>0.0059</td>\n",
       "      <td>1.0000</td>\n",
       "      <td>1.0000</td>\n",
       "      <td>0.0</td>\n",
       "      <td>1.2041</td>\n",
       "      <td>0.9031</td>\n",
       "      <td>0.6990</td>\n",
       "      <td>-0.5000</td>\n",
       "      <td>-0.0104</td>\n",
       "      <td>0.1417</td>\n",
       "    </tr>\n",
       "    <tr>\n",
       "      <th>1</th>\n",
       "      <td>808</td>\n",
       "      <td>816</td>\n",
       "      <td>728350</td>\n",
       "      <td>728372</td>\n",
       "      <td>433</td>\n",
       "      <td>20</td>\n",
       "      <td>54</td>\n",
       "      <td>44478</td>\n",
       "      <td>70</td>\n",
       "      <td>111</td>\n",
       "      <td>...</td>\n",
       "      <td>0.0044</td>\n",
       "      <td>0.2500</td>\n",
       "      <td>1.0000</td>\n",
       "      <td>1.0</td>\n",
       "      <td>2.6365</td>\n",
       "      <td>0.7782</td>\n",
       "      <td>1.7324</td>\n",
       "      <td>0.7419</td>\n",
       "      <td>-0.2997</td>\n",
       "      <td>0.9491</td>\n",
       "    </tr>\n",
       "    <tr>\n",
       "      <th>3</th>\n",
       "      <td>781</td>\n",
       "      <td>789</td>\n",
       "      <td>3353146</td>\n",
       "      <td>3353173</td>\n",
       "      <td>210</td>\n",
       "      <td>16</td>\n",
       "      <td>29</td>\n",
       "      <td>3202</td>\n",
       "      <td>114</td>\n",
       "      <td>134</td>\n",
       "      <td>...</td>\n",
       "      <td>0.0044</td>\n",
       "      <td>0.3750</td>\n",
       "      <td>0.9310</td>\n",
       "      <td>1.0</td>\n",
       "      <td>2.3222</td>\n",
       "      <td>0.7782</td>\n",
       "      <td>1.4314</td>\n",
       "      <td>0.6667</td>\n",
       "      <td>-0.0402</td>\n",
       "      <td>0.4025</td>\n",
       "    </tr>\n",
       "    <tr>\n",
       "      <th>4</th>\n",
       "      <td>1540</td>\n",
       "      <td>1560</td>\n",
       "      <td>618457</td>\n",
       "      <td>618502</td>\n",
       "      <td>521</td>\n",
       "      <td>72</td>\n",
       "      <td>67</td>\n",
       "      <td>48231</td>\n",
       "      <td>82</td>\n",
       "      <td>111</td>\n",
       "      <td>...</td>\n",
       "      <td>0.0192</td>\n",
       "      <td>0.2105</td>\n",
       "      <td>0.9861</td>\n",
       "      <td>1.0</td>\n",
       "      <td>2.7694</td>\n",
       "      <td>1.4150</td>\n",
       "      <td>1.8808</td>\n",
       "      <td>0.9158</td>\n",
       "      <td>-0.2455</td>\n",
       "      <td>0.9998</td>\n",
       "    </tr>\n",
       "    <tr>\n",
       "      <th>5</th>\n",
       "      <td>1009</td>\n",
       "      <td>1033</td>\n",
       "      <td>899231</td>\n",
       "      <td>899307</td>\n",
       "      <td>409</td>\n",
       "      <td>22</td>\n",
       "      <td>26</td>\n",
       "      <td>47513</td>\n",
       "      <td>86</td>\n",
       "      <td>118</td>\n",
       "      <td>...</td>\n",
       "      <td>0.0053</td>\n",
       "      <td>0.5454</td>\n",
       "      <td>1.0000</td>\n",
       "      <td>1.0</td>\n",
       "      <td>2.6117</td>\n",
       "      <td>0.9542</td>\n",
       "      <td>1.4150</td>\n",
       "      <td>0.5909</td>\n",
       "      <td>-0.1890</td>\n",
       "      <td>0.8749</td>\n",
       "    </tr>\n",
       "    <tr>\n",
       "      <th>...</th>\n",
       "      <td>...</td>\n",
       "      <td>...</td>\n",
       "      <td>...</td>\n",
       "      <td>...</td>\n",
       "      <td>...</td>\n",
       "      <td>...</td>\n",
       "      <td>...</td>\n",
       "      <td>...</td>\n",
       "      <td>...</td>\n",
       "      <td>...</td>\n",
       "      <td>...</td>\n",
       "      <td>...</td>\n",
       "      <td>...</td>\n",
       "      <td>...</td>\n",
       "      <td>...</td>\n",
       "      <td>...</td>\n",
       "      <td>...</td>\n",
       "      <td>...</td>\n",
       "      <td>...</td>\n",
       "      <td>...</td>\n",
       "      <td>...</td>\n",
       "    </tr>\n",
       "    <tr>\n",
       "      <th>19214</th>\n",
       "      <td>749</td>\n",
       "      <td>757</td>\n",
       "      <td>143210</td>\n",
       "      <td>143219</td>\n",
       "      <td>17</td>\n",
       "      <td>4</td>\n",
       "      <td>4</td>\n",
       "      <td>2193</td>\n",
       "      <td>122</td>\n",
       "      <td>140</td>\n",
       "      <td>...</td>\n",
       "      <td>0.0044</td>\n",
       "      <td>1.0000</td>\n",
       "      <td>0.8000</td>\n",
       "      <td>0.0</td>\n",
       "      <td>1.2305</td>\n",
       "      <td>0.7782</td>\n",
       "      <td>0.6021</td>\n",
       "      <td>-0.1429</td>\n",
       "      <td>0.0044</td>\n",
       "      <td>0.2901</td>\n",
       "    </tr>\n",
       "    <tr>\n",
       "      <th>19215</th>\n",
       "      <td>723</td>\n",
       "      <td>735</td>\n",
       "      <td>2488529</td>\n",
       "      <td>2488541</td>\n",
       "      <td>231</td>\n",
       "      <td>17</td>\n",
       "      <td>26</td>\n",
       "      <td>27135</td>\n",
       "      <td>104</td>\n",
       "      <td>133</td>\n",
       "      <td>...</td>\n",
       "      <td>0.0065</td>\n",
       "      <td>0.7333</td>\n",
       "      <td>0.9216</td>\n",
       "      <td>1.0</td>\n",
       "      <td>2.3636</td>\n",
       "      <td>1.0414</td>\n",
       "      <td>1.4150</td>\n",
       "      <td>0.7222</td>\n",
       "      <td>-0.0989</td>\n",
       "      <td>0.5378</td>\n",
       "    </tr>\n",
       "    <tr>\n",
       "      <th>19216</th>\n",
       "      <td>6</td>\n",
       "      <td>31</td>\n",
       "      <td>1578055</td>\n",
       "      <td>1578129</td>\n",
       "      <td>780</td>\n",
       "      <td>114</td>\n",
       "      <td>98</td>\n",
       "      <td>71112</td>\n",
       "      <td>41</td>\n",
       "      <td>94</td>\n",
       "      <td>...</td>\n",
       "      <td>0.0199</td>\n",
       "      <td>0.1862</td>\n",
       "      <td>0.9554</td>\n",
       "      <td>1.0</td>\n",
       "      <td>2.8921</td>\n",
       "      <td>1.4314</td>\n",
       "      <td>1.8692</td>\n",
       "      <td>0.7719</td>\n",
       "      <td>-0.4283</td>\n",
       "      <td>0.9997</td>\n",
       "    </tr>\n",
       "    <tr>\n",
       "      <th>19217</th>\n",
       "      <td>9</td>\n",
       "      <td>18</td>\n",
       "      <td>1713172</td>\n",
       "      <td>1713184</td>\n",
       "      <td>126</td>\n",
       "      <td>13</td>\n",
       "      <td>26</td>\n",
       "      <td>14808</td>\n",
       "      <td>88</td>\n",
       "      <td>132</td>\n",
       "      <td>...</td>\n",
       "      <td>0.0068</td>\n",
       "      <td>0.7692</td>\n",
       "      <td>1.0000</td>\n",
       "      <td>1.0</td>\n",
       "      <td>2.1004</td>\n",
       "      <td>1.0414</td>\n",
       "      <td>1.4150</td>\n",
       "      <td>0.9610</td>\n",
       "      <td>-0.1162</td>\n",
       "      <td>0.3509</td>\n",
       "    </tr>\n",
       "    <tr>\n",
       "      <th>19218</th>\n",
       "      <td>1505</td>\n",
       "      <td>1525</td>\n",
       "      <td>1733458</td>\n",
       "      <td>1733471</td>\n",
       "      <td>182</td>\n",
       "      <td>24</td>\n",
       "      <td>33</td>\n",
       "      <td>22785</td>\n",
       "      <td>98</td>\n",
       "      <td>143</td>\n",
       "      <td>...</td>\n",
       "      <td>0.0083</td>\n",
       "      <td>0.6250</td>\n",
       "      <td>1.0000</td>\n",
       "      <td>1.0</td>\n",
       "      <td>2.2601</td>\n",
       "      <td>1.1461</td>\n",
       "      <td>1.5051</td>\n",
       "      <td>0.5263</td>\n",
       "      <td>-0.1120</td>\n",
       "      <td>0.6619</td>\n",
       "    </tr>\n",
       "  </tbody>\n",
       "</table>\n",
       "<p>17362 rows × 27 columns</p>\n",
       "</div>"
      ],
      "text/plain": [
       "       X_Minimum  X_Maximum  Y_Minimum  Y_Maximum  Pixels_Areas  X_Perimeter  \\\n",
       "0            584        590     909972     909977            16            8   \n",
       "1            808        816     728350     728372           433           20   \n",
       "3            781        789    3353146    3353173           210           16   \n",
       "4           1540       1560     618457     618502           521           72   \n",
       "5           1009       1033     899231     899307           409           22   \n",
       "...          ...        ...        ...        ...           ...          ...   \n",
       "19214        749        757     143210     143219            17            4   \n",
       "19215        723        735    2488529    2488541           231           17   \n",
       "19216          6         31    1578055    1578129           780          114   \n",
       "19217          9         18    1713172    1713184           126           13   \n",
       "19218       1505       1525    1733458    1733471           182           24   \n",
       "\n",
       "       Y_Perimeter  Sum_of_Luminosity  Minimum_of_Luminosity  \\\n",
       "0                5               2274                    113   \n",
       "1               54              44478                     70   \n",
       "3               29               3202                    114   \n",
       "4               67              48231                     82   \n",
       "5               26              47513                     86   \n",
       "...            ...                ...                    ...   \n",
       "19214            4               2193                    122   \n",
       "19215           26              27135                    104   \n",
       "19216           98              71112                     41   \n",
       "19217           26              14808                     88   \n",
       "19218           33              22785                     98   \n",
       "\n",
       "       Maximum_of_Luminosity  ...  Outside_X_Index  Edges_X_Index  \\\n",
       "0                        140  ...           0.0059         1.0000   \n",
       "1                        111  ...           0.0044         0.2500   \n",
       "3                        134  ...           0.0044         0.3750   \n",
       "4                        111  ...           0.0192         0.2105   \n",
       "5                        118  ...           0.0053         0.5454   \n",
       "...                      ...  ...              ...            ...   \n",
       "19214                    140  ...           0.0044         1.0000   \n",
       "19215                    133  ...           0.0065         0.7333   \n",
       "19216                     94  ...           0.0199         0.1862   \n",
       "19217                    132  ...           0.0068         0.7692   \n",
       "19218                    143  ...           0.0083         0.6250   \n",
       "\n",
       "       Edges_Y_Index  Outside_Global_Index  LogOfAreas  Log_X_Index  \\\n",
       "0             1.0000                   0.0      1.2041       0.9031   \n",
       "1             1.0000                   1.0      2.6365       0.7782   \n",
       "3             0.9310                   1.0      2.3222       0.7782   \n",
       "4             0.9861                   1.0      2.7694       1.4150   \n",
       "5             1.0000                   1.0      2.6117       0.9542   \n",
       "...              ...                   ...         ...          ...   \n",
       "19214         0.8000                   0.0      1.2305       0.7782   \n",
       "19215         0.9216                   1.0      2.3636       1.0414   \n",
       "19216         0.9554                   1.0      2.8921       1.4314   \n",
       "19217         1.0000                   1.0      2.1004       1.0414   \n",
       "19218         1.0000                   1.0      2.2601       1.1461   \n",
       "\n",
       "       Log_Y_Index  Orientation_Index  Luminosity_Index  SigmoidOfAreas  \n",
       "0           0.6990            -0.5000           -0.0104          0.1417  \n",
       "1           1.7324             0.7419           -0.2997          0.9491  \n",
       "3           1.4314             0.6667           -0.0402          0.4025  \n",
       "4           1.8808             0.9158           -0.2455          0.9998  \n",
       "5           1.4150             0.5909           -0.1890          0.8749  \n",
       "...            ...                ...               ...             ...  \n",
       "19214       0.6021            -0.1429            0.0044          0.2901  \n",
       "19215       1.4150             0.7222           -0.0989          0.5378  \n",
       "19216       1.8692             0.7719           -0.4283          0.9997  \n",
       "19217       1.4150             0.9610           -0.1162          0.3509  \n",
       "19218       1.5051             0.5263           -0.1120          0.6619  \n",
       "\n",
       "[17362 rows x 27 columns]"
      ]
     },
     "execution_count": 23,
     "metadata": {},
     "output_type": "execute_result"
    }
   ],
   "source": [
    "df_s"
   ]
  },
  {
   "cell_type": "markdown",
   "metadata": {},
   "source": [
    "#### Dropping columns that don't seem like they have much significance for the prediction"
   ]
  },
  {
   "cell_type": "code",
   "execution_count": 24,
   "metadata": {
    "execution": {
     "iopub.execute_input": "2024-03-10T07:44:31.843493Z",
     "iopub.status.busy": "2024-03-10T07:44:31.843097Z",
     "iopub.status.idle": "2024-03-10T07:44:31.848859Z",
     "shell.execute_reply": "2024-03-10T07:44:31.848079Z",
     "shell.execute_reply.started": "2024-03-10T07:44:31.843462Z"
    }
   },
   "outputs": [],
   "source": [
    "df_n =  df_s.drop(columns = ['Y_Minimum', 'Y_Maximum', 'Minimum_of_Luminosity', 'Maximum_of_Luminosity', 'Empty_Index', 'Luminosity_Index'])"
   ]
  },
  {
   "cell_type": "code",
   "execution_count": 25,
   "metadata": {
    "execution": {
     "iopub.execute_input": "2024-03-10T07:44:32.226072Z",
     "iopub.status.busy": "2024-03-10T07:44:32.225708Z",
     "iopub.status.idle": "2024-03-10T07:44:32.248087Z",
     "shell.execute_reply": "2024-03-10T07:44:32.247437Z",
     "shell.execute_reply.started": "2024-03-10T07:44:32.226041Z"
    }
   },
   "outputs": [
    {
     "data": {
      "text/html": [
       "<div>\n",
       "<style scoped>\n",
       "    .dataframe tbody tr th:only-of-type {\n",
       "        vertical-align: middle;\n",
       "    }\n",
       "\n",
       "    .dataframe tbody tr th {\n",
       "        vertical-align: top;\n",
       "    }\n",
       "\n",
       "    .dataframe thead th {\n",
       "        text-align: right;\n",
       "    }\n",
       "</style>\n",
       "<table border=\"1\" class=\"dataframe\">\n",
       "  <thead>\n",
       "    <tr style=\"text-align: right;\">\n",
       "      <th></th>\n",
       "      <th>X_Minimum</th>\n",
       "      <th>X_Maximum</th>\n",
       "      <th>Pixels_Areas</th>\n",
       "      <th>X_Perimeter</th>\n",
       "      <th>Y_Perimeter</th>\n",
       "      <th>Sum_of_Luminosity</th>\n",
       "      <th>Length_of_Conveyer</th>\n",
       "      <th>TypeOfSteel_A300</th>\n",
       "      <th>TypeOfSteel_A400</th>\n",
       "      <th>Steel_Plate_Thickness</th>\n",
       "      <th>...</th>\n",
       "      <th>Square_Index</th>\n",
       "      <th>Outside_X_Index</th>\n",
       "      <th>Edges_X_Index</th>\n",
       "      <th>Edges_Y_Index</th>\n",
       "      <th>Outside_Global_Index</th>\n",
       "      <th>LogOfAreas</th>\n",
       "      <th>Log_X_Index</th>\n",
       "      <th>Log_Y_Index</th>\n",
       "      <th>Orientation_Index</th>\n",
       "      <th>SigmoidOfAreas</th>\n",
       "    </tr>\n",
       "  </thead>\n",
       "  <tbody>\n",
       "    <tr>\n",
       "      <th>0</th>\n",
       "      <td>584</td>\n",
       "      <td>590</td>\n",
       "      <td>16</td>\n",
       "      <td>8</td>\n",
       "      <td>5</td>\n",
       "      <td>2274</td>\n",
       "      <td>1358</td>\n",
       "      <td>0</td>\n",
       "      <td>1</td>\n",
       "      <td>50</td>\n",
       "      <td>...</td>\n",
       "      <td>0.5000</td>\n",
       "      <td>0.0059</td>\n",
       "      <td>1.0000</td>\n",
       "      <td>1.0000</td>\n",
       "      <td>0.0</td>\n",
       "      <td>1.2041</td>\n",
       "      <td>0.9031</td>\n",
       "      <td>0.6990</td>\n",
       "      <td>-0.5000</td>\n",
       "      <td>0.1417</td>\n",
       "    </tr>\n",
       "    <tr>\n",
       "      <th>1</th>\n",
       "      <td>808</td>\n",
       "      <td>816</td>\n",
       "      <td>433</td>\n",
       "      <td>20</td>\n",
       "      <td>54</td>\n",
       "      <td>44478</td>\n",
       "      <td>1687</td>\n",
       "      <td>1</td>\n",
       "      <td>0</td>\n",
       "      <td>80</td>\n",
       "      <td>...</td>\n",
       "      <td>0.2581</td>\n",
       "      <td>0.0044</td>\n",
       "      <td>0.2500</td>\n",
       "      <td>1.0000</td>\n",
       "      <td>1.0</td>\n",
       "      <td>2.6365</td>\n",
       "      <td>0.7782</td>\n",
       "      <td>1.7324</td>\n",
       "      <td>0.7419</td>\n",
       "      <td>0.9491</td>\n",
       "    </tr>\n",
       "    <tr>\n",
       "      <th>3</th>\n",
       "      <td>781</td>\n",
       "      <td>789</td>\n",
       "      <td>210</td>\n",
       "      <td>16</td>\n",
       "      <td>29</td>\n",
       "      <td>3202</td>\n",
       "      <td>1387</td>\n",
       "      <td>0</td>\n",
       "      <td>1</td>\n",
       "      <td>40</td>\n",
       "      <td>...</td>\n",
       "      <td>0.3333</td>\n",
       "      <td>0.0044</td>\n",
       "      <td>0.3750</td>\n",
       "      <td>0.9310</td>\n",
       "      <td>1.0</td>\n",
       "      <td>2.3222</td>\n",
       "      <td>0.7782</td>\n",
       "      <td>1.4314</td>\n",
       "      <td>0.6667</td>\n",
       "      <td>0.4025</td>\n",
       "    </tr>\n",
       "    <tr>\n",
       "      <th>4</th>\n",
       "      <td>1540</td>\n",
       "      <td>1560</td>\n",
       "      <td>521</td>\n",
       "      <td>72</td>\n",
       "      <td>67</td>\n",
       "      <td>48231</td>\n",
       "      <td>1692</td>\n",
       "      <td>0</td>\n",
       "      <td>1</td>\n",
       "      <td>300</td>\n",
       "      <td>...</td>\n",
       "      <td>0.0842</td>\n",
       "      <td>0.0192</td>\n",
       "      <td>0.2105</td>\n",
       "      <td>0.9861</td>\n",
       "      <td>1.0</td>\n",
       "      <td>2.7694</td>\n",
       "      <td>1.4150</td>\n",
       "      <td>1.8808</td>\n",
       "      <td>0.9158</td>\n",
       "      <td>0.9998</td>\n",
       "    </tr>\n",
       "    <tr>\n",
       "      <th>5</th>\n",
       "      <td>1009</td>\n",
       "      <td>1033</td>\n",
       "      <td>409</td>\n",
       "      <td>22</td>\n",
       "      <td>26</td>\n",
       "      <td>47513</td>\n",
       "      <td>1650</td>\n",
       "      <td>1</td>\n",
       "      <td>0</td>\n",
       "      <td>70</td>\n",
       "      <td>...</td>\n",
       "      <td>0.4091</td>\n",
       "      <td>0.0053</td>\n",
       "      <td>0.5454</td>\n",
       "      <td>1.0000</td>\n",
       "      <td>1.0</td>\n",
       "      <td>2.6117</td>\n",
       "      <td>0.9542</td>\n",
       "      <td>1.4150</td>\n",
       "      <td>0.5909</td>\n",
       "      <td>0.8749</td>\n",
       "    </tr>\n",
       "    <tr>\n",
       "      <th>...</th>\n",
       "      <td>...</td>\n",
       "      <td>...</td>\n",
       "      <td>...</td>\n",
       "      <td>...</td>\n",
       "      <td>...</td>\n",
       "      <td>...</td>\n",
       "      <td>...</td>\n",
       "      <td>...</td>\n",
       "      <td>...</td>\n",
       "      <td>...</td>\n",
       "      <td>...</td>\n",
       "      <td>...</td>\n",
       "      <td>...</td>\n",
       "      <td>...</td>\n",
       "      <td>...</td>\n",
       "      <td>...</td>\n",
       "      <td>...</td>\n",
       "      <td>...</td>\n",
       "      <td>...</td>\n",
       "      <td>...</td>\n",
       "      <td>...</td>\n",
       "    </tr>\n",
       "    <tr>\n",
       "      <th>19214</th>\n",
       "      <td>749</td>\n",
       "      <td>757</td>\n",
       "      <td>17</td>\n",
       "      <td>4</td>\n",
       "      <td>4</td>\n",
       "      <td>2193</td>\n",
       "      <td>1360</td>\n",
       "      <td>0</td>\n",
       "      <td>0</td>\n",
       "      <td>50</td>\n",
       "      <td>...</td>\n",
       "      <td>0.8571</td>\n",
       "      <td>0.0044</td>\n",
       "      <td>1.0000</td>\n",
       "      <td>0.8000</td>\n",
       "      <td>0.0</td>\n",
       "      <td>1.2305</td>\n",
       "      <td>0.7782</td>\n",
       "      <td>0.6021</td>\n",
       "      <td>-0.1429</td>\n",
       "      <td>0.2901</td>\n",
       "    </tr>\n",
       "    <tr>\n",
       "      <th>19215</th>\n",
       "      <td>723</td>\n",
       "      <td>735</td>\n",
       "      <td>231</td>\n",
       "      <td>17</td>\n",
       "      <td>26</td>\n",
       "      <td>27135</td>\n",
       "      <td>1652</td>\n",
       "      <td>1</td>\n",
       "      <td>0</td>\n",
       "      <td>70</td>\n",
       "      <td>...</td>\n",
       "      <td>0.2778</td>\n",
       "      <td>0.0065</td>\n",
       "      <td>0.7333</td>\n",
       "      <td>0.9216</td>\n",
       "      <td>1.0</td>\n",
       "      <td>2.3636</td>\n",
       "      <td>1.0414</td>\n",
       "      <td>1.4150</td>\n",
       "      <td>0.7222</td>\n",
       "      <td>0.5378</td>\n",
       "    </tr>\n",
       "    <tr>\n",
       "      <th>19216</th>\n",
       "      <td>6</td>\n",
       "      <td>31</td>\n",
       "      <td>780</td>\n",
       "      <td>114</td>\n",
       "      <td>98</td>\n",
       "      <td>71112</td>\n",
       "      <td>1358</td>\n",
       "      <td>0</td>\n",
       "      <td>1</td>\n",
       "      <td>200</td>\n",
       "      <td>...</td>\n",
       "      <td>0.2281</td>\n",
       "      <td>0.0199</td>\n",
       "      <td>0.1862</td>\n",
       "      <td>0.9554</td>\n",
       "      <td>1.0</td>\n",
       "      <td>2.8921</td>\n",
       "      <td>1.4314</td>\n",
       "      <td>1.8692</td>\n",
       "      <td>0.7719</td>\n",
       "      <td>0.9997</td>\n",
       "    </tr>\n",
       "    <tr>\n",
       "      <th>19217</th>\n",
       "      <td>9</td>\n",
       "      <td>18</td>\n",
       "      <td>126</td>\n",
       "      <td>13</td>\n",
       "      <td>26</td>\n",
       "      <td>14808</td>\n",
       "      <td>1692</td>\n",
       "      <td>1</td>\n",
       "      <td>0</td>\n",
       "      <td>60</td>\n",
       "      <td>...</td>\n",
       "      <td>0.0390</td>\n",
       "      <td>0.0068</td>\n",
       "      <td>0.7692</td>\n",
       "      <td>1.0000</td>\n",
       "      <td>1.0</td>\n",
       "      <td>2.1004</td>\n",
       "      <td>1.0414</td>\n",
       "      <td>1.4150</td>\n",
       "      <td>0.9610</td>\n",
       "      <td>0.3509</td>\n",
       "    </tr>\n",
       "    <tr>\n",
       "      <th>19218</th>\n",
       "      <td>1505</td>\n",
       "      <td>1525</td>\n",
       "      <td>182</td>\n",
       "      <td>24</td>\n",
       "      <td>33</td>\n",
       "      <td>22785</td>\n",
       "      <td>1688</td>\n",
       "      <td>1</td>\n",
       "      <td>0</td>\n",
       "      <td>70</td>\n",
       "      <td>...</td>\n",
       "      <td>0.4737</td>\n",
       "      <td>0.0083</td>\n",
       "      <td>0.6250</td>\n",
       "      <td>1.0000</td>\n",
       "      <td>1.0</td>\n",
       "      <td>2.2601</td>\n",
       "      <td>1.1461</td>\n",
       "      <td>1.5051</td>\n",
       "      <td>0.5263</td>\n",
       "      <td>0.6619</td>\n",
       "    </tr>\n",
       "  </tbody>\n",
       "</table>\n",
       "<p>17362 rows × 21 columns</p>\n",
       "</div>"
      ],
      "text/plain": [
       "       X_Minimum  X_Maximum  Pixels_Areas  X_Perimeter  Y_Perimeter  \\\n",
       "0            584        590            16            8            5   \n",
       "1            808        816           433           20           54   \n",
       "3            781        789           210           16           29   \n",
       "4           1540       1560           521           72           67   \n",
       "5           1009       1033           409           22           26   \n",
       "...          ...        ...           ...          ...          ...   \n",
       "19214        749        757            17            4            4   \n",
       "19215        723        735           231           17           26   \n",
       "19216          6         31           780          114           98   \n",
       "19217          9         18           126           13           26   \n",
       "19218       1505       1525           182           24           33   \n",
       "\n",
       "       Sum_of_Luminosity  Length_of_Conveyer  TypeOfSteel_A300  \\\n",
       "0                   2274                1358                 0   \n",
       "1                  44478                1687                 1   \n",
       "3                   3202                1387                 0   \n",
       "4                  48231                1692                 0   \n",
       "5                  47513                1650                 1   \n",
       "...                  ...                 ...               ...   \n",
       "19214               2193                1360                 0   \n",
       "19215              27135                1652                 1   \n",
       "19216              71112                1358                 0   \n",
       "19217              14808                1692                 1   \n",
       "19218              22785                1688                 1   \n",
       "\n",
       "       TypeOfSteel_A400  Steel_Plate_Thickness  ...  Square_Index  \\\n",
       "0                     1                     50  ...        0.5000   \n",
       "1                     0                     80  ...        0.2581   \n",
       "3                     1                     40  ...        0.3333   \n",
       "4                     1                    300  ...        0.0842   \n",
       "5                     0                     70  ...        0.4091   \n",
       "...                 ...                    ...  ...           ...   \n",
       "19214                 0                     50  ...        0.8571   \n",
       "19215                 0                     70  ...        0.2778   \n",
       "19216                 1                    200  ...        0.2281   \n",
       "19217                 0                     60  ...        0.0390   \n",
       "19218                 0                     70  ...        0.4737   \n",
       "\n",
       "       Outside_X_Index  Edges_X_Index  Edges_Y_Index  Outside_Global_Index  \\\n",
       "0               0.0059         1.0000         1.0000                   0.0   \n",
       "1               0.0044         0.2500         1.0000                   1.0   \n",
       "3               0.0044         0.3750         0.9310                   1.0   \n",
       "4               0.0192         0.2105         0.9861                   1.0   \n",
       "5               0.0053         0.5454         1.0000                   1.0   \n",
       "...                ...            ...            ...                   ...   \n",
       "19214           0.0044         1.0000         0.8000                   0.0   \n",
       "19215           0.0065         0.7333         0.9216                   1.0   \n",
       "19216           0.0199         0.1862         0.9554                   1.0   \n",
       "19217           0.0068         0.7692         1.0000                   1.0   \n",
       "19218           0.0083         0.6250         1.0000                   1.0   \n",
       "\n",
       "       LogOfAreas  Log_X_Index  Log_Y_Index  Orientation_Index  SigmoidOfAreas  \n",
       "0          1.2041       0.9031       0.6990            -0.5000          0.1417  \n",
       "1          2.6365       0.7782       1.7324             0.7419          0.9491  \n",
       "3          2.3222       0.7782       1.4314             0.6667          0.4025  \n",
       "4          2.7694       1.4150       1.8808             0.9158          0.9998  \n",
       "5          2.6117       0.9542       1.4150             0.5909          0.8749  \n",
       "...           ...          ...          ...                ...             ...  \n",
       "19214      1.2305       0.7782       0.6021            -0.1429          0.2901  \n",
       "19215      2.3636       1.0414       1.4150             0.7222          0.5378  \n",
       "19216      2.8921       1.4314       1.8692             0.7719          0.9997  \n",
       "19217      2.1004       1.0414       1.4150             0.9610          0.3509  \n",
       "19218      2.2601       1.1461       1.5051             0.5263          0.6619  \n",
       "\n",
       "[17362 rows x 21 columns]"
      ]
     },
     "execution_count": 25,
     "metadata": {},
     "output_type": "execute_result"
    }
   ],
   "source": [
    "df_n"
   ]
  },
  {
   "cell_type": "code",
   "execution_count": 26,
   "metadata": {
    "execution": {
     "iopub.execute_input": "2024-03-10T07:44:33.014000Z",
     "iopub.status.busy": "2024-03-10T07:44:33.013662Z",
     "iopub.status.idle": "2024-03-10T07:44:33.128565Z",
     "shell.execute_reply": "2024-03-10T07:44:33.127896Z",
     "shell.execute_reply.started": "2024-03-10T07:44:33.013972Z"
    }
   },
   "outputs": [],
   "source": [
    "from sklearn.model_selection import train_test_split"
   ]
  },
  {
   "cell_type": "code",
   "execution_count": 27,
   "metadata": {
    "execution": {
     "iopub.execute_input": "2024-03-10T07:44:33.418426Z",
     "iopub.status.busy": "2024-03-10T07:44:33.418060Z",
     "iopub.status.idle": "2024-03-10T07:44:33.427182Z",
     "shell.execute_reply": "2024-03-10T07:44:33.426517Z",
     "shell.execute_reply.started": "2024-03-10T07:44:33.418400Z"
    }
   },
   "outputs": [],
   "source": [
    "# Re assigning the training and testing variables\n",
    "\n",
    "#X = df_s.drop(columns = ['Main_Faults'])\n",
    "y = df['Main_Faults']\n",
    "\n",
    "X_train, X_test, y_train, y_test = train_test_split(df_s, y, test_size = 0.2, shuffle = True, random_state = 45)"
   ]
  },
  {
   "cell_type": "code",
   "execution_count": 28,
   "metadata": {
    "execution": {
     "iopub.execute_input": "2024-03-10T07:44:34.244317Z",
     "iopub.status.busy": "2024-03-10T07:44:34.244060Z",
     "iopub.status.idle": "2024-03-10T07:44:34.249031Z",
     "shell.execute_reply": "2024-03-10T07:44:34.248366Z",
     "shell.execute_reply.started": "2024-03-10T07:44:34.244292Z"
    }
   },
   "outputs": [
    {
     "data": {
      "text/plain": [
       "(3473,)"
      ]
     },
     "execution_count": 28,
     "metadata": {},
     "output_type": "execute_result"
    }
   ],
   "source": [
    "y_test.shape"
   ]
  },
  {
   "cell_type": "code",
   "execution_count": 29,
   "metadata": {
    "execution": {
     "iopub.execute_input": "2024-03-10T07:44:34.555616Z",
     "iopub.status.busy": "2024-03-10T07:44:34.555347Z",
     "iopub.status.idle": "2024-03-10T07:44:34.560137Z",
     "shell.execute_reply": "2024-03-10T07:44:34.559517Z",
     "shell.execute_reply.started": "2024-03-10T07:44:34.555589Z"
    }
   },
   "outputs": [
    {
     "data": {
      "text/plain": [
       "(3473, 27)"
      ]
     },
     "execution_count": 29,
     "metadata": {},
     "output_type": "execute_result"
    }
   ],
   "source": [
    "X_test.shape"
   ]
  },
  {
   "cell_type": "code",
   "execution_count": 30,
   "metadata": {
    "execution": {
     "iopub.execute_input": "2024-03-10T07:44:34.889113Z",
     "iopub.status.busy": "2024-03-10T07:44:34.888856Z",
     "iopub.status.idle": "2024-03-10T07:44:35.088341Z",
     "shell.execute_reply": "2024-03-10T07:44:35.087670Z",
     "shell.execute_reply.started": "2024-03-10T07:44:34.889088Z"
    }
   },
   "outputs": [],
   "source": [
    "from sklearn.feature_selection import SelectKBest, chi2"
   ]
  },
  {
   "cell_type": "code",
   "execution_count": 40,
   "metadata": {
    "execution": {
     "iopub.execute_input": "2024-03-10T07:44:36.739979Z",
     "iopub.status.busy": "2024-03-10T07:44:36.739401Z",
     "iopub.status.idle": "2024-03-10T07:44:37.091075Z",
     "shell.execute_reply": "2024-03-10T07:44:37.090211Z",
     "shell.execute_reply.started": "2024-03-10T07:44:36.739938Z"
    }
   },
   "outputs": [
    {
     "ename": "ValueError",
     "evalue": "Input X must be non-negative.",
     "output_type": "error",
     "traceback": [
      "\u001b[0;31m---------------------------------------------------------------------------\u001b[0m",
      "\u001b[0;31mValueError\u001b[0m                                Traceback (most recent call last)",
      "Cell \u001b[0;32mIn[40], line 2\u001b[0m\n\u001b[1;32m      1\u001b[0m bestfeatures \u001b[38;5;241m=\u001b[39m SelectKBest(score_func \u001b[38;5;241m=\u001b[39m chi2, k \u001b[38;5;241m=\u001b[39m \u001b[38;5;124m'\u001b[39m\u001b[38;5;124mall\u001b[39m\u001b[38;5;124m'\u001b[39m)\n\u001b[0;32m----> 2\u001b[0m fit \u001b[38;5;241m=\u001b[39m \u001b[43mbestfeatures\u001b[49m\u001b[38;5;241;43m.\u001b[39;49m\u001b[43mfit\u001b[49m\u001b[43m(\u001b[49m\u001b[43mX\u001b[49m\u001b[43m,\u001b[49m\u001b[43m \u001b[49m\u001b[43my\u001b[49m\u001b[43m)\u001b[49m\n\u001b[1;32m      3\u001b[0m plt\u001b[38;5;241m.\u001b[39mfigure(figsize \u001b[38;5;241m=\u001b[39m (\u001b[38;5;241m12\u001b[39m, \u001b[38;5;241m4\u001b[39m))\n\u001b[1;32m      4\u001b[0m plt\u001b[38;5;241m.\u001b[39mbar(x \u001b[38;5;241m=\u001b[39m X\u001b[38;5;241m.\u001b[39mcolumns, height \u001b[38;5;241m=\u001b[39m fit\u001b[38;5;241m.\u001b[39mscores_,)\n",
      "File \u001b[0;32m/usr/local/lib/python3.10/site-packages/sklearn/base.py:1474\u001b[0m, in \u001b[0;36m_fit_context.<locals>.decorator.<locals>.wrapper\u001b[0;34m(estimator, *args, **kwargs)\u001b[0m\n\u001b[1;32m   1467\u001b[0m     estimator\u001b[38;5;241m.\u001b[39m_validate_params()\n\u001b[1;32m   1469\u001b[0m \u001b[38;5;28;01mwith\u001b[39;00m config_context(\n\u001b[1;32m   1470\u001b[0m     skip_parameter_validation\u001b[38;5;241m=\u001b[39m(\n\u001b[1;32m   1471\u001b[0m         prefer_skip_nested_validation \u001b[38;5;129;01mor\u001b[39;00m global_skip_validation\n\u001b[1;32m   1472\u001b[0m     )\n\u001b[1;32m   1473\u001b[0m ):\n\u001b[0;32m-> 1474\u001b[0m     \u001b[38;5;28;01mreturn\u001b[39;00m \u001b[43mfit_method\u001b[49m\u001b[43m(\u001b[49m\u001b[43mestimator\u001b[49m\u001b[43m,\u001b[49m\u001b[43m \u001b[49m\u001b[38;5;241;43m*\u001b[39;49m\u001b[43margs\u001b[49m\u001b[43m,\u001b[49m\u001b[43m \u001b[49m\u001b[38;5;241;43m*\u001b[39;49m\u001b[38;5;241;43m*\u001b[39;49m\u001b[43mkwargs\u001b[49m\u001b[43m)\u001b[49m\n",
      "File \u001b[0;32m/usr/local/lib/python3.10/site-packages/sklearn/feature_selection/_univariate_selection.py:567\u001b[0m, in \u001b[0;36m_BaseFilter.fit\u001b[0;34m(self, X, y)\u001b[0m\n\u001b[1;32m    562\u001b[0m     X, y \u001b[38;5;241m=\u001b[39m \u001b[38;5;28mself\u001b[39m\u001b[38;5;241m.\u001b[39m_validate_data(\n\u001b[1;32m    563\u001b[0m         X, y, accept_sparse\u001b[38;5;241m=\u001b[39m[\u001b[38;5;124m\"\u001b[39m\u001b[38;5;124mcsr\u001b[39m\u001b[38;5;124m\"\u001b[39m, \u001b[38;5;124m\"\u001b[39m\u001b[38;5;124mcsc\u001b[39m\u001b[38;5;124m\"\u001b[39m], multi_output\u001b[38;5;241m=\u001b[39m\u001b[38;5;28;01mTrue\u001b[39;00m\n\u001b[1;32m    564\u001b[0m     )\n\u001b[1;32m    566\u001b[0m \u001b[38;5;28mself\u001b[39m\u001b[38;5;241m.\u001b[39m_check_params(X, y)\n\u001b[0;32m--> 567\u001b[0m score_func_ret \u001b[38;5;241m=\u001b[39m \u001b[38;5;28;43mself\u001b[39;49m\u001b[38;5;241;43m.\u001b[39;49m\u001b[43mscore_func\u001b[49m\u001b[43m(\u001b[49m\u001b[43mX\u001b[49m\u001b[43m,\u001b[49m\u001b[43m \u001b[49m\u001b[43my\u001b[49m\u001b[43m)\u001b[49m\n\u001b[1;32m    568\u001b[0m \u001b[38;5;28;01mif\u001b[39;00m \u001b[38;5;28misinstance\u001b[39m(score_func_ret, (\u001b[38;5;28mlist\u001b[39m, \u001b[38;5;28mtuple\u001b[39m)):\n\u001b[1;32m    569\u001b[0m     \u001b[38;5;28mself\u001b[39m\u001b[38;5;241m.\u001b[39mscores_, \u001b[38;5;28mself\u001b[39m\u001b[38;5;241m.\u001b[39mpvalues_ \u001b[38;5;241m=\u001b[39m score_func_ret\n",
      "File \u001b[0;32m/usr/local/lib/python3.10/site-packages/sklearn/utils/_param_validation.py:186\u001b[0m, in \u001b[0;36mvalidate_params.<locals>.decorator.<locals>.wrapper\u001b[0;34m(*args, **kwargs)\u001b[0m\n\u001b[1;32m    184\u001b[0m global_skip_validation \u001b[38;5;241m=\u001b[39m get_config()[\u001b[38;5;124m\"\u001b[39m\u001b[38;5;124mskip_parameter_validation\u001b[39m\u001b[38;5;124m\"\u001b[39m]\n\u001b[1;32m    185\u001b[0m \u001b[38;5;28;01mif\u001b[39;00m global_skip_validation:\n\u001b[0;32m--> 186\u001b[0m     \u001b[38;5;28;01mreturn\u001b[39;00m \u001b[43mfunc\u001b[49m\u001b[43m(\u001b[49m\u001b[38;5;241;43m*\u001b[39;49m\u001b[43margs\u001b[49m\u001b[43m,\u001b[49m\u001b[43m \u001b[49m\u001b[38;5;241;43m*\u001b[39;49m\u001b[38;5;241;43m*\u001b[39;49m\u001b[43mkwargs\u001b[49m\u001b[43m)\u001b[49m\n\u001b[1;32m    188\u001b[0m func_sig \u001b[38;5;241m=\u001b[39m signature(func)\n\u001b[1;32m    190\u001b[0m \u001b[38;5;66;03m# Map *args/**kwargs to the function signature\u001b[39;00m\n",
      "File \u001b[0;32m/usr/local/lib/python3.10/site-packages/sklearn/feature_selection/_univariate_selection.py:266\u001b[0m, in \u001b[0;36mchi2\u001b[0;34m(X, y)\u001b[0m\n\u001b[1;32m    264\u001b[0m X \u001b[38;5;241m=\u001b[39m check_array(X, accept_sparse\u001b[38;5;241m=\u001b[39m\u001b[38;5;124m\"\u001b[39m\u001b[38;5;124mcsr\u001b[39m\u001b[38;5;124m\"\u001b[39m, dtype\u001b[38;5;241m=\u001b[39m(np\u001b[38;5;241m.\u001b[39mfloat64, np\u001b[38;5;241m.\u001b[39mfloat32))\n\u001b[1;32m    265\u001b[0m \u001b[38;5;28;01mif\u001b[39;00m np\u001b[38;5;241m.\u001b[39many((X\u001b[38;5;241m.\u001b[39mdata \u001b[38;5;28;01mif\u001b[39;00m issparse(X) \u001b[38;5;28;01melse\u001b[39;00m X) \u001b[38;5;241m<\u001b[39m \u001b[38;5;241m0\u001b[39m):\n\u001b[0;32m--> 266\u001b[0m     \u001b[38;5;28;01mraise\u001b[39;00m \u001b[38;5;167;01mValueError\u001b[39;00m(\u001b[38;5;124m\"\u001b[39m\u001b[38;5;124mInput X must be non-negative.\u001b[39m\u001b[38;5;124m\"\u001b[39m)\n\u001b[1;32m    268\u001b[0m \u001b[38;5;66;03m# Use a sparse representation for Y by default to reduce memory usage when\u001b[39;00m\n\u001b[1;32m    269\u001b[0m \u001b[38;5;66;03m# y has many unique classes.\u001b[39;00m\n\u001b[1;32m    270\u001b[0m Y \u001b[38;5;241m=\u001b[39m LabelBinarizer(sparse_output\u001b[38;5;241m=\u001b[39m\u001b[38;5;28;01mTrue\u001b[39;00m)\u001b[38;5;241m.\u001b[39mfit_transform(y)\n",
      "\u001b[0;31mValueError\u001b[0m: Input X must be non-negative."
     ]
    }
   ],
   "source": [
    "bestfeatures = SelectKBest(score_func = chi2, k = 'all')\n",
    "fit = bestfeatures.fit(X, y)\n",
    "plt.figure(figsize = (12, 4))\n",
    "plt.bar(x = X.columns, height = fit.scores_,)\n",
    "plt.xticks(rotation = 90);"
   ]
  },
  {
   "cell_type": "code",
   "execution_count": 31,
   "metadata": {
    "execution": {
     "iopub.execute_input": "2024-03-10T07:44:38.522344Z",
     "iopub.status.busy": "2024-03-10T07:44:38.521733Z",
     "iopub.status.idle": "2024-03-10T07:44:51.900669Z",
     "shell.execute_reply": "2024-03-10T07:44:51.899922Z",
     "shell.execute_reply.started": "2024-03-10T07:44:38.522308Z"
    }
   },
   "outputs": [],
   "source": [
    "import tensorflow as tf"
   ]
  },
  {
   "cell_type": "code",
   "execution_count": 32,
   "metadata": {
    "execution": {
     "iopub.execute_input": "2024-03-10T07:44:54.581551Z",
     "iopub.status.busy": "2024-03-10T07:44:54.580588Z",
     "iopub.status.idle": "2024-03-10T07:44:54.586071Z",
     "shell.execute_reply": "2024-03-10T07:44:54.585423Z",
     "shell.execute_reply.started": "2024-03-10T07:44:54.581519Z"
    }
   },
   "outputs": [],
   "source": [
    "from keras.utils import to_categorical\n",
    "y_train_encoded = to_categorical(y_train, num_classes = 7)"
   ]
  },
  {
   "cell_type": "code",
   "execution_count": 33,
   "metadata": {
    "execution": {
     "iopub.execute_input": "2024-03-10T07:44:55.577725Z",
     "iopub.status.busy": "2024-03-10T07:44:55.577349Z",
     "iopub.status.idle": "2024-03-10T07:44:55.585661Z",
     "shell.execute_reply": "2024-03-10T07:44:55.584966Z",
     "shell.execute_reply.started": "2024-03-10T07:44:55.577692Z"
    }
   },
   "outputs": [
    {
     "data": {
      "text/plain": [
       "Main_Faults\n",
       "6    5126\n",
       "5    3782\n",
       "2    2038\n",
       "0    1179\n",
       "1     922\n",
       "3     464\n",
       "4     378\n",
       "Name: count, dtype: int64"
      ]
     },
     "execution_count": 33,
     "metadata": {},
     "output_type": "execute_result"
    }
   ],
   "source": [
    "y_train.value_counts()"
   ]
  },
  {
   "cell_type": "code",
   "execution_count": 34,
   "metadata": {
    "execution": {
     "iopub.execute_input": "2024-03-10T07:44:56.966467Z",
     "iopub.status.busy": "2024-03-10T07:44:56.966002Z",
     "iopub.status.idle": "2024-03-10T07:44:56.972201Z",
     "shell.execute_reply": "2024-03-10T07:44:56.971523Z",
     "shell.execute_reply.started": "2024-03-10T07:44:56.966424Z"
    }
   },
   "outputs": [
    {
     "data": {
      "text/plain": [
       "array([[0., 0., 1., ..., 0., 0., 0.],\n",
       "       [0., 0., 0., ..., 0., 0., 1.],\n",
       "       [0., 0., 0., ..., 0., 0., 1.],\n",
       "       ...,\n",
       "       [0., 0., 0., ..., 0., 1., 0.],\n",
       "       [0., 1., 0., ..., 0., 0., 0.],\n",
       "       [0., 1., 0., ..., 0., 0., 0.]], dtype=float32)"
      ]
     },
     "execution_count": 34,
     "metadata": {},
     "output_type": "execute_result"
    }
   ],
   "source": [
    "y_train_encoded"
   ]
  },
  {
   "cell_type": "code",
   "execution_count": 35,
   "metadata": {
    "execution": {
     "iopub.execute_input": "2024-03-10T07:45:05.994896Z",
     "iopub.status.busy": "2024-03-10T07:45:05.994533Z",
     "iopub.status.idle": "2024-03-10T07:45:09.556908Z",
     "shell.execute_reply": "2024-03-10T07:45:09.555982Z",
     "shell.execute_reply.started": "2024-03-10T07:45:05.994866Z"
    }
   },
   "outputs": [],
   "source": [
    "model = tf.keras.Sequential([\n",
    "    tf.keras.layers.Dense(16, activation='relu', input_shape=(X_train.shape[1],)),  # Ensure input shape is defined\n",
    "    tf.keras.layers.Dense(7, activation='softmax')  # Adjusted to 8 units for the 8 classes\n",
    "])\n",
    "\n",
    "model.compile(loss = 'categorical_crossentropy', optimizer = 'adam', metrics = ['accuracy'])"
   ]
  },
  {
   "cell_type": "code",
   "execution_count": 36,
   "metadata": {
    "execution": {
     "iopub.execute_input": "2024-03-10T07:45:11.621935Z",
     "iopub.status.busy": "2024-03-10T07:45:11.621567Z",
     "iopub.status.idle": "2024-03-10T07:45:11.627313Z",
     "shell.execute_reply": "2024-03-10T07:45:11.626350Z",
     "shell.execute_reply.started": "2024-03-10T07:45:11.621903Z"
    }
   },
   "outputs": [
    {
     "data": {
      "text/plain": [
       "(13889,)"
      ]
     },
     "execution_count": 36,
     "metadata": {},
     "output_type": "execute_result"
    }
   ],
   "source": [
    "y_train.shape"
   ]
  },
  {
   "cell_type": "code",
   "execution_count": 37,
   "metadata": {
    "execution": {
     "iopub.execute_input": "2024-03-10T07:46:13.226655Z",
     "iopub.status.busy": "2024-03-10T07:46:13.226317Z",
     "iopub.status.idle": "2024-03-10T07:46:13.343862Z",
     "shell.execute_reply": "2024-03-10T07:46:13.342759Z",
     "shell.execute_reply.started": "2024-03-10T07:46:13.226627Z"
    }
   },
   "outputs": [
    {
     "name": "stdout",
     "output_type": "stream",
     "text": [
      "Epoch 1/20\n",
      "348/348 [==============================] - 3s 3ms/step - loss: 29986.7754 - accuracy: 0.3602 - val_loss: 2592.1958 - val_accuracy: 0.4114\n",
      "Epoch 2/20\n",
      "348/348 [==============================] - 1s 3ms/step - loss: 3095.0691 - accuracy: 0.3596 - val_loss: 2440.9197 - val_accuracy: 0.4078\n",
      "Epoch 3/20\n",
      "348/348 [==============================] - 1s 3ms/step - loss: 2380.5312 - accuracy: 0.3640 - val_loss: 2655.2842 - val_accuracy: 0.3333\n",
      "Epoch 4/20\n",
      "348/348 [==============================] - 1s 3ms/step - loss: 2100.7632 - accuracy: 0.3511 - val_loss: 2053.3093 - val_accuracy: 0.1638\n",
      "Epoch 5/20\n",
      "348/348 [==============================] - 1s 3ms/step - loss: 1852.4009 - accuracy: 0.3526 - val_loss: 1424.6842 - val_accuracy: 0.4240\n",
      "Epoch 6/20\n",
      "348/348 [==============================] - 1s 3ms/step - loss: 1723.5957 - accuracy: 0.3347 - val_loss: 1714.6112 - val_accuracy: 0.1937\n",
      "Epoch 7/20\n",
      "348/348 [==============================] - 1s 3ms/step - loss: 1516.3380 - accuracy: 0.3344 - val_loss: 1879.4728 - val_accuracy: 0.3719\n",
      "Epoch 8/20\n",
      "348/348 [==============================] - 1s 3ms/step - loss: 1602.5753 - accuracy: 0.3299 - val_loss: 1776.2910 - val_accuracy: 0.4226\n",
      "Epoch 9/20\n",
      "348/348 [==============================] - 1s 3ms/step - loss: 1303.2224 - accuracy: 0.3430 - val_loss: 1116.3721 - val_accuracy: 0.3301\n",
      "Epoch 10/20\n",
      "348/348 [==============================] - 1s 3ms/step - loss: 1633.9741 - accuracy: 0.3281 - val_loss: 2156.9592 - val_accuracy: 0.3269\n",
      "Epoch 11/20\n",
      "348/348 [==============================] - 1s 3ms/step - loss: 1385.4884 - accuracy: 0.3349 - val_loss: 896.6374 - val_accuracy: 0.4082\n",
      "Epoch 12/20\n",
      "348/348 [==============================] - 1s 3ms/step - loss: 1374.0145 - accuracy: 0.3344 - val_loss: 1227.5289 - val_accuracy: 0.4532\n",
      "Epoch 13/20\n",
      "348/348 [==============================] - 1s 3ms/step - loss: 1328.8423 - accuracy: 0.3320 - val_loss: 629.1244 - val_accuracy: 0.4251\n",
      "Epoch 14/20\n",
      "348/348 [==============================] - 1s 3ms/step - loss: 1104.4901 - accuracy: 0.3395 - val_loss: 1115.4178 - val_accuracy: 0.3629\n",
      "Epoch 15/20\n",
      "348/348 [==============================] - 1s 3ms/step - loss: 1263.2197 - accuracy: 0.3365 - val_loss: 1621.3077 - val_accuracy: 0.1393\n",
      "Epoch 16/20\n",
      "348/348 [==============================] - 1s 3ms/step - loss: 1078.9147 - accuracy: 0.3409 - val_loss: 1454.3971 - val_accuracy: 0.3647\n",
      "Epoch 17/20\n",
      "348/348 [==============================] - 1s 3ms/step - loss: 1231.3313 - accuracy: 0.3397 - val_loss: 1700.8049 - val_accuracy: 0.3639\n",
      "Epoch 18/20\n",
      "348/348 [==============================] - 1s 3ms/step - loss: 1211.8049 - accuracy: 0.3382 - val_loss: 789.1268 - val_accuracy: 0.3690\n",
      "Epoch 19/20\n",
      "348/348 [==============================] - 1s 3ms/step - loss: 941.4626 - accuracy: 0.3414 - val_loss: 608.8708 - val_accuracy: 0.3776\n",
      "Epoch 20/20\n",
      "348/348 [==============================] - 1s 3ms/step - loss: 1097.4572 - accuracy: 0.3443 - val_loss: 1152.2837 - val_accuracy: 0.1731\n"
     ]
    }
   ],
   "source": [
    "history = model.fit(X_train, y_train_encoded, epochs = 20, validation_split = 0.2, verbose = 1)"
   ]
  },
  {
   "cell_type": "markdown",
   "metadata": {
    "execution": {
     "iopub.execute_input": "2024-03-07T06:30:57.450779Z",
     "iopub.status.busy": "2024-03-07T06:30:57.450251Z",
     "iopub.status.idle": "2024-03-07T06:30:57.459646Z",
     "shell.execute_reply": "2024-03-07T06:30:57.458267Z",
     "shell.execute_reply.started": "2024-03-07T06:30:57.450747Z"
    }
   },
   "source": [
    "Initially used Gradient Boosting and Random Forest without any preprocessing and outlier removal and got around 44 and 37 accuracy respectively"
   ]
  },
  {
   "cell_type": "code",
   "execution_count": 38,
   "metadata": {
    "execution": {
     "iopub.execute_input": "2024-03-10T07:45:19.268160Z",
     "iopub.status.busy": "2024-03-10T07:45:19.267817Z",
     "iopub.status.idle": "2024-03-10T07:45:19.296570Z",
     "shell.execute_reply": "2024-03-10T07:45:19.295524Z",
     "shell.execute_reply.started": "2024-03-10T07:45:19.268132Z"
    }
   },
   "outputs": [
    {
     "data": {
      "text/plain": [
       "Text(0.5, 0, 'Epoch')"
      ]
     },
     "execution_count": 38,
     "metadata": {},
     "output_type": "execute_result"
    },
    {
     "data": {
      "image/png": "[encoded data removed]",
      "text/plain": [
       "<Figure size 640x480 with 1 Axes>"
      ]
     },
     "metadata": {},
     "output_type": "display_data"
    }
   ],
   "source": [
    "plt.semilogy(history.history['loss'], label = 'loss')\n",
    "plt.semilogy(history.history['val_loss'], label = 'val_loss')\n",
    "plt.legend()\n",
    "plt.ylabel('Loss')\n",
    "plt.xlabel('Epoch')"
   ]
  },
  {
   "cell_type": "markdown",
   "metadata": {},
   "source": [
    "Generate Predicted labels and probabilities of those labels"
   ]
  },
  {
   "cell_type": "code",
   "execution_count": 39,
   "metadata": {
    "execution": {
     "iopub.execute_input": "2024-03-10T07:40:56.706160Z",
     "iopub.status.busy": "2024-03-10T07:40:56.705039Z",
     "iopub.status.idle": "2024-03-10T07:40:57.035771Z",
     "shell.execute_reply": "2024-03-10T07:40:57.034651Z",
     "shell.execute_reply.started": "2024-03-10T07:40:56.706111Z"
    }
   },
   "outputs": [
    {
     "data": {
      "text/plain": [
       "Text(0.5, 0, 'Epoch')"
      ]
     },
     "execution_count": 39,
     "metadata": {},
     "output_type": "execute_result"
    },
    {
     "data": {
      "image/png": "[encoded data removed]",
      "text/plain": [
       "<Figure size 640x480 with 1 Axes>"
      ]
     },
     "metadata": {},
     "output_type": "display_data"
    }
   ],
   "source": [
    "plt.semilogy(history.history['accuracy'], label = 'accuracy')\n",
    "plt.semilogy(history.history['val_accuracy'], label = 'val_accuracy')\n",
    "plt.legend()\n",
    "plt.ylabel('Loss')\n",
    "plt.xlabel('Epoch')"
   ]
  },
  {
   "cell_type": "code",
   "execution_count": null,
   "metadata": {},
   "outputs": [],
   "source": [
    "from sklearn.metrics import accuracy_score"
   ]
  },
  {
   "cell_type": "code",
   "execution_count": null,
   "metadata": {},
   "outputs": [],
   "source": [
    "np.sum(yp6 > 0.5)"
   ]
  },
  {
   "cell_type": "code",
   "execution_count": null,
   "metadata": {},
   "outputs": [],
   "source": [
    "accuracy0 = accuracy_score(y_test0, yp0.flatten())\n",
    "print(accuracy_score0)"
   ]
  },
  {
   "cell_type": "code",
   "execution_count": 40,
   "metadata": {
    "execution": {
     "iopub.execute_input": "2024-03-10T07:41:02.693993Z",
     "iopub.status.busy": "2024-03-10T07:41:02.693592Z",
     "iopub.status.idle": "2024-03-10T07:41:02.701494Z",
     "shell.execute_reply": "2024-03-10T07:41:02.699841Z",
     "shell.execute_reply.started": "2024-03-10T07:41:02.693965Z"
    }
   },
   "outputs": [],
   "source": [
    "y_train_encoded = to_categorical(y_train, num_classes = 7)\n",
    "y_test_encoded = to_categorical(y_test, num_classes = 7)"
   ]
  },
  {
   "cell_type": "code",
   "execution_count": 41,
   "metadata": {
    "execution": {
     "iopub.execute_input": "2024-03-10T07:46:00.325801Z",
     "iopub.status.busy": "2024-03-10T07:46:00.325340Z",
     "iopub.status.idle": "2024-03-10T07:46:00.548508Z",
     "shell.execute_reply": "2024-03-10T07:46:00.547398Z",
     "shell.execute_reply.started": "2024-03-10T07:46:00.325761Z"
    }
   },
   "outputs": [
    {
     "name": "stdout",
     "output_type": "stream",
     "text": [
      "435/435 [==============================] - 1s 2ms/step - loss: 1158.9554 - accuracy: 0.1600\n",
      "109/109 [==============================] - 0s 2ms/step - loss: 1361.3500 - accuracy: 0.1650\n"
     ]
    }
   ],
   "source": [
    "score1, acc1 = model.evaluate(X_train, y_train_encoded)\n",
    "score2, acc2 = model.evaluate(X_test, y_test_encoded)"
   ]
  },
  {
   "cell_type": "markdown",
   "metadata": {},
   "source": [
    "### Scikit-learn Classifiers"
   ]
  },
  {
   "cell_type": "code",
   "execution_count": 42,
   "metadata": {
    "execution": {
     "iopub.execute_input": "2024-03-10T07:45:22.683418Z",
     "iopub.status.busy": "2024-03-10T07:45:22.683095Z",
     "iopub.status.idle": "2024-03-10T07:45:22.804475Z",
     "shell.execute_reply": "2024-03-10T07:45:22.803698Z",
     "shell.execute_reply.started": "2024-03-10T07:45:22.683391Z"
    }
   },
   "outputs": [],
   "source": [
    "from sklearn.ensemble import AdaBoostClassifier\n",
    "from sklearn.linear_model import LogisticRegression\n",
    "from sklearn.naive_bayes import GaussianNB\n",
    "from sklearn.neighbors import KNeighborsClassifier\n",
    "from sklearn.tree import DecisionTreeClassifier\n",
    "from sklearn.ensemble import RandomForestClassifier\n",
    "from sklearn.svm import SVC\n",
    "from sklearn.neural_network import MLPClassifier"
   ]
  },
  {
   "cell_type": "code",
   "execution_count": 43,
   "metadata": {
    "execution": {
     "iopub.execute_input": "2024-03-10T07:45:22.875376Z",
     "iopub.status.busy": "2024-03-10T07:45:22.874720Z",
     "iopub.status.idle": "2024-03-10T07:45:22.881400Z",
     "shell.execute_reply": "2024-03-10T07:45:22.880698Z",
     "shell.execute_reply.started": "2024-03-10T07:45:22.875346Z"
    }
   },
   "outputs": [],
   "source": [
    "from sklearn.multioutput import MultiOutputClassifier"
   ]
  },
  {
   "cell_type": "code",
   "execution_count": 44,
   "metadata": {
    "execution": {
     "iopub.execute_input": "2024-03-10T07:45:23.037121Z",
     "iopub.status.busy": "2024-03-10T07:45:23.036878Z",
     "iopub.status.idle": "2024-03-10T07:45:23.041585Z",
     "shell.execute_reply": "2024-03-10T07:45:23.040916Z",
     "shell.execute_reply.started": "2024-03-10T07:45:23.037097Z"
    }
   },
   "outputs": [],
   "source": [
    "ada = AdaBoostClassifier()\n",
    "lr = LogisticRegression()\n",
    "nb = GaussianNB()\n",
    "knn = KNeighborsClassifier()\n",
    "dt = DecisionTreeClassifier()\n",
    "rf = RandomForestClassifier()\n",
    "svc = SVC()\n",
    "mlp = MLPClassifier(max_iter = 1000)\n",
    "clist = [ada, lr, nb, knn, dt, rf, svc, mlp]\n",
    "mlist = [None]*8"
   ]
  },
  {
   "cell_type": "markdown",
   "metadata": {},
   "source": [
    "#### Train Model"
   ]
  },
  {
   "cell_type": "code",
   "execution_count": 45,
   "metadata": {
    "execution": {
     "iopub.execute_input": "2024-03-10T07:45:24.063316Z",
     "iopub.status.busy": "2024-03-10T07:45:24.063001Z",
     "iopub.status.idle": "2024-03-10T07:45:24.069794Z",
     "shell.execute_reply": "2024-03-10T07:45:24.068726Z",
     "shell.execute_reply.started": "2024-03-10T07:45:24.063289Z"
    }
   },
   "outputs": [
    {
     "data": {
      "text/plain": [
       "array([2, 6, 1, 5, 0, 4, 3], dtype=int64)"
      ]
     },
     "execution_count": 45,
     "metadata": {},
     "output_type": "execute_result"
    }
   ],
   "source": [
    "y_train.unique()"
   ]
  },
  {
   "cell_type": "code",
   "execution_count": 46,
   "metadata": {
    "execution": {
     "iopub.execute_input": "2024-03-10T07:45:24.839984Z",
     "iopub.status.busy": "2024-03-10T07:45:24.839618Z",
     "iopub.status.idle": "2024-03-10T07:45:24.844909Z",
     "shell.execute_reply": "2024-03-10T07:45:24.844216Z",
     "shell.execute_reply.started": "2024-03-10T07:45:24.839952Z"
    }
   },
   "outputs": [
    {
     "data": {
      "text/plain": [
       "(13889,)"
      ]
     },
     "execution_count": 46,
     "metadata": {},
     "output_type": "execute_result"
    }
   ],
   "source": [
    "y_train.shape"
   ]
  },
  {
   "cell_type": "code",
   "execution_count": 47,
   "metadata": {
    "execution": {
     "iopub.execute_input": "2024-03-10T07:45:25.082578Z",
     "iopub.status.busy": "2024-03-10T07:45:25.082291Z",
     "iopub.status.idle": "2024-03-10T07:45:25.087450Z",
     "shell.execute_reply": "2024-03-10T07:45:25.086708Z",
     "shell.execute_reply.started": "2024-03-10T07:45:25.082552Z"
    }
   },
   "outputs": [
    {
     "data": {
      "text/plain": [
       "(13889, 1)"
      ]
     },
     "execution_count": 47,
     "metadata": {},
     "output_type": "execute_result"
    }
   ],
   "source": [
    "y_train_reshaped = np.reshape(y_train, (-1, 1))\n",
    "y_train_reshaped.shape"
   ]
  },
  {
   "cell_type": "code",
   "execution_count": null,
   "metadata": {
    "execution": {
     "iopub.execute_input": "2024-03-10T07:45:25.856032Z",
     "iopub.status.busy": "2024-03-10T07:45:25.855645Z",
     "iopub.status.idle": "2024-03-10T07:45:48.538733Z",
     "shell.execute_reply": "2024-03-10T07:45:48.537938Z",
     "shell.execute_reply.started": "2024-03-10T07:45:25.856002Z"
    }
   },
   "outputs": [
    {
     "name": "stderr",
     "output_type": "stream",
     "text": [
      "C:\\Users\\micha\\anaconda3\\envs\\gpu_ev\\lib\\site-packages\\sklearn\\linear_model\\_logistic.py:460: ConvergenceWarning: lbfgs failed to converge (status=1):\n",
      "STOP: TOTAL NO. of ITERATIONS REACHED LIMIT.\n",
      "\n",
      "Increase the number of iterations (max_iter) or scale the data as shown in:\n",
      "    https://scikit-learn.org/stable/modules/preprocessing.html\n",
      "Please also refer to the documentation for alternative solver options:\n",
      "    https://scikit-learn.org/stable/modules/linear_model.html#logistic-regression\n",
      "  n_iter_i = _check_optimize_result(\n"
     ]
    }
   ],
   "source": [
    "for i, m in enumerate(clist):\n",
    "    mlist[i] = MultiOutputClassifier(m).fit(X_train, y_train_reshaped)"
   ]
  },
  {
   "cell_type": "code",
   "execution_count": 56,
   "metadata": {
    "execution": {
     "iopub.execute_input": "2024-03-10T07:45:53.174716Z",
     "iopub.status.busy": "2024-03-10T07:45:53.174385Z",
     "iopub.status.idle": "2024-03-10T07:45:53.178865Z",
     "shell.execute_reply": "2024-03-10T07:45:53.178147Z",
     "shell.execute_reply.started": "2024-03-10T07:45:53.174688Z"
    }
   },
   "outputs": [],
   "source": [
    "y_test_reshaped = np.reshape(y_test, (-1, 1))"
   ]
  },
  {
   "cell_type": "code",
   "execution_count": 57,
   "metadata": {
    "execution": {
     "iopub.execute_input": "2024-03-10T07:45:53.930998Z",
     "iopub.status.busy": "2024-03-10T07:45:53.930729Z",
     "iopub.status.idle": "2024-03-10T07:45:53.938878Z",
     "shell.execute_reply": "2024-03-10T07:45:53.938193Z",
     "shell.execute_reply.started": "2024-03-10T07:45:53.930974Z"
    }
   },
   "outputs": [
    {
     "data": {
      "text/plain": [
       "[MultiOutputClassifier(estimator=AdaBoostClassifier()),\n",
       " MultiOutputClassifier(estimator=LogisticRegression()),\n",
       " MultiOutputClassifier(estimator=GaussianNB()),\n",
       " MultiOutputClassifier(estimator=KNeighborsClassifier()),\n",
       " MultiOutputClassifier(estimator=DecisionTreeClassifier()),\n",
       " MultiOutputClassifier(estimator=RandomForestClassifier()),\n",
       " MultiOutputClassifier(estimator=SVC()),\n",
       " MultiOutputClassifier(estimator=MLPClassifier(max_iter=1000))]"
      ]
     },
     "execution_count": 57,
     "metadata": {},
     "output_type": "execute_result"
    }
   ],
   "source": [
    "mlist"
   ]
  },
  {
   "cell_type": "code",
   "execution_count": 58,
   "metadata": {
    "execution": {
     "iopub.execute_input": "2024-03-10T07:45:54.856249Z",
     "iopub.status.busy": "2024-03-10T07:45:54.855968Z",
     "iopub.status.idle": "2024-03-10T07:45:54.893689Z",
     "shell.execute_reply": "2024-03-10T07:45:54.892721Z",
     "shell.execute_reply.started": "2024-03-10T07:45:54.856222Z"
    }
   },
   "outputs": [
    {
     "ename": "NameError",
     "evalue": "name 'score1' is not defined",
     "output_type": "error",
     "traceback": [
      "\u001b[0;31m---------------------------------------------------------------------------\u001b[0m",
      "\u001b[0;31mNameError\u001b[0m                                 Traceback (most recent call last)",
      "Cell \u001b[0;32mIn[58], line 2\u001b[0m\n\u001b[1;32m      1\u001b[0m x \u001b[38;5;241m=\u001b[39m pd\u001b[38;5;241m.\u001b[39mDataFrame()\n\u001b[0;32m----> 2\u001b[0m n \u001b[38;5;241m=\u001b[39m [\u001b[38;5;124m'\u001b[39m\u001b[38;5;124mKeras/TF\u001b[39m\u001b[38;5;124m'\u001b[39m]; s1 \u001b[38;5;241m=\u001b[39m [\u001b[43mscore1\u001b[49m]; s2 \u001b[38;5;241m=\u001b[39m [score2]\n\u001b[1;32m      3\u001b[0m \u001b[38;5;28;01mfor\u001b[39;00m i, m \u001b[38;5;129;01min\u001b[39;00m \u001b[38;5;28menumerate\u001b[39m(mlist):\n\u001b[1;32m      4\u001b[0m     n\u001b[38;5;241m.\u001b[39mappend(\u001b[38;5;28mstr\u001b[39m(m\u001b[38;5;241m.\u001b[39mestimator))\n",
      "\u001b[0;31mNameError\u001b[0m: name 'score1' is not defined"
     ]
    }
   ],
   "source": [
    "x = pd.DataFrame()\n",
    "n = ['Keras/TF']; s1 = [score1]; s2 = [score2]\n",
    "for i, m in enumerate(mlist):\n",
    "    n.append(str(m.estimator))\n",
    "    s1.append(m.score(X_train, y_train_reshaped))\n",
    "    s2.append(m.score(X_test, y_test_reshaped))"
   ]
  },
  {
   "cell_type": "code",
   "execution_count": 90,
   "metadata": {
    "execution": {
     "iopub.execute_input": "2024-03-10T07:42:12.656450Z",
     "iopub.status.busy": "2024-03-10T07:42:12.656120Z",
     "iopub.status.idle": "2024-03-10T07:42:12.938635Z",
     "shell.execute_reply": "2024-03-10T07:42:12.937461Z",
     "shell.execute_reply.started": "2024-03-10T07:42:12.656429Z"
    }
   },
   "outputs": [
    {
     "data": {
      "text/plain": [
       "<function matplotlib.pyplot.show(close=None, block=None)>"
      ]
     },
     "execution_count": 90,
     "metadata": {},
     "output_type": "execute_result"
    },
    {
     "data": {
      "image/png": "[encoded data removed]",
      "text/plain": [
       "<Figure size 640x480 with 1 Axes>"
      ]
     },
     "metadata": {},
     "output_type": "display_data"
    }
   ],
   "source": [
    "plt.bar(n, s1, label = 'Train')\n",
    "plt.bar(n, s2, width = 0.5, label = 'Test')\n",
    "plt.xticks(rotation = 90)\n",
    "plt.legend()\n",
    "plt.show"
   ]
  },
  {
   "cell_type": "code",
   "execution_count": null,
   "metadata": {},
   "outputs": [],
   "source": []
  },
  {
   "cell_type": "code",
   "execution_count": null,
   "metadata": {},
   "outputs": [],
   "source": []
  },
  {
   "cell_type": "code",
   "execution_count": null,
   "metadata": {},
   "outputs": [],
   "source": []
  },
  {
   "cell_type": "code",
   "execution_count": null,
   "metadata": {},
   "outputs": [],
   "source": []
  },
  {
   "cell_type": "code",
   "execution_count": null,
   "metadata": {},
   "outputs": [],
   "source": []
  },
  {
   "cell_type": "code",
   "execution_count": null,
   "metadata": {},
   "outputs": [],
   "source": []
  },
  {
   "cell_type": "code",
   "execution_count": null,
   "metadata": {},
   "outputs": [],
   "source": []
  },
  {
   "cell_type": "code",
   "execution_count": null,
   "metadata": {},
   "outputs": [],
   "source": []
  }
 ],
 "metadata": {
  "kaggle": {
   "accelerator": "none",
   "dataSources": [
    {
     "databundleVersionId": 7659021,
     "sourceId": 68699,
     "sourceType": "competition"
    }
   ],
   "dockerImageVersionId": 30664,
   "isGpuEnabled": false,
   "isInternetEnabled": true,
   "language": "python",
   "sourceType": "notebook"
  },
  "kernelspec": {
   "display_name": "Python 3 (ipykernel)",
   "language": "python",
   "name": "python3"
  },
  "language_info": {
   "codemirror_mode": {
    "name": "ipython",
    "version": 3
   },
   "file_extension": ".py",
   "mimetype": "text/x-python",
   "name": "python",
   "nbconvert_exporter": "python",
   "pygments_lexer": "ipython3",
   "version": "3.9.18"
  }
 },
 "nbformat": 4,
 "nbformat_minor": 4
}
