{
 "cells": [
  {
   "cell_type": "code",
   "execution_count": 1,
   "id": "aa021495",
   "metadata": {},
   "outputs": [],
   "source": [
    "import pandas as pd\n",
    "import numpy as np\n",
    "\n",
    "import matplotlib.pyplot as plt\n",
    "import seaborn as sns"
   ]
  },
  {
   "cell_type": "code",
   "execution_count": 2,
   "id": "6a9f8dfd",
   "metadata": {},
   "outputs": [],
   "source": [
    "dfm = pd.read_csv('train.csv')"
   ]
  },
  {
   "cell_type": "code",
   "execution_count": 3,
   "id": "f7752240",
   "metadata": {},
   "outputs": [],
   "source": [
    "dfm['Summary'] = dfm['Pastry'] + dfm['Z_Scratch'] + dfm['K_Scatch'] + dfm['Stains'] + dfm['Dirtiness'] + dfm['Bumps'] + dfm['Other_Faults']"
   ]
  },
  {
   "cell_type": "code",
   "execution_count": 4,
   "id": "7b70bdc3",
   "metadata": {},
   "outputs": [],
   "source": [
    "df = dfm[dfm['Summary'] == 1]\n",
    "df = df.drop(columns = ['Summary'])"
   ]
  },
  {
   "cell_type": "code",
   "execution_count": 5,
   "id": "4184705f",
   "metadata": {},
   "outputs": [
    {
     "data": {
      "text/plain": [
       "5"
      ]
     },
     "execution_count": 5,
     "metadata": {},
     "output_type": "execute_result"
    }
   ],
   "source": [
    "df_o = df[df['Pixels_Areas'] > 28000]\n",
    "len(df_o)"
   ]
  },
  {
   "cell_type": "code",
   "execution_count": 6,
   "id": "fb15c7ee",
   "metadata": {},
   "outputs": [],
   "source": [
    "# Pixel Areas Outlier Removed\n",
    "df = df[df['Pixels_Areas'] < 30000]"
   ]
  },
  {
   "cell_type": "code",
   "execution_count": 7,
   "id": "093a9ba5",
   "metadata": {},
   "outputs": [],
   "source": [
    "# X Perimeter Outlier Removed\n",
    "df = df[df['X_Perimeter'] < 3000]"
   ]
  },
  {
   "cell_type": "code",
   "execution_count": 8,
   "id": "b7697bca",
   "metadata": {},
   "outputs": [],
   "source": [
    "# Sum of Luminosity Outlier Removed\n",
    "df = df[df['Sum_of_Luminosity'] < 1000000]"
   ]
  },
  {
   "cell_type": "code",
   "execution_count": 11,
   "id": "44305e10",
   "metadata": {},
   "outputs": [],
   "source": [
    "df =  df.drop(columns = ['Y_Minimum', 'Y_Maximum', 'Minimum_of_Luminosity', 'Maximum_of_Luminosity', 'Empty_Index', 'Luminosity_Index'])"
   ]
  },
  {
   "cell_type": "code",
   "execution_count": 12,
   "id": "aa3f8bc2",
   "metadata": {},
   "outputs": [
    {
     "data": {
      "text/plain": [
       "<Axes: >"
      ]
     },
     "execution_count": 12,
     "metadata": {},
     "output_type": "execute_result"
    },
    {
     "data": {
      "image/png": "[encoded data removed]",
      "text/plain": [
       "<Figure size 640x480 with 1 Axes>"
      ]
     },
     "metadata": {},
     "output_type": "display_data"
    }
   ],
   "source": [
    "features = df.columns[:-7]\n",
    "labels = df.columns[-7:]\n",
    "X = df[features]\n",
    "y = df[labels]\n",
    "y.idxmax(axis=1).value_counts().plot(kind='bar')"
   ]
  },
  {
   "cell_type": "code",
   "execution_count": 13,
   "id": "cac16a98",
   "metadata": {},
   "outputs": [],
   "source": [
    "# scikit-learn packages\n",
    "from sklearn.metrics import confusion_matrix\n",
    "from sklearn.preprocessing import MinMaxScaler\n",
    "from sklearn.model_selection import train_test_split\n",
    "from sklearn.feature_selection import SelectKBest,chi2"
   ]
  },
  {
   "cell_type": "code",
   "execution_count": 18,
   "id": "a92e6e4e",
   "metadata": {},
   "outputs": [],
   "source": [
    "s = MinMaxScaler()\n",
    "data_s = s.fit_transform(df)\n",
    "data_s = pd.DataFrame(data_s, columns=df.columns)\n",
    "\n",
    "# Split data into X and y\n",
    "features = df.columns[:-7]\n",
    "labels = df.columns[-7:]\n",
    "X = data_s[features]\n",
    "y = data_s[labels]\n",
    "\n",
    "# Train/test split\n",
    "X_train, X_test, y_train, y_test = train_test_split(X,y,test_size=0.2, random_state = 45)"
   ]
  },
  {
   "cell_type": "code",
   "execution_count": 19,
   "id": "c07ab9a1",
   "metadata": {},
   "outputs": [],
   "source": [
    "import tensorflow as tf"
   ]
  },
  {
   "cell_type": "code",
   "execution_count": 20,
   "id": "0c61f4d3",
   "metadata": {},
   "outputs": [],
   "source": [
    "model = tf.keras.Sequential([\n",
    "    tf.keras.layers.Dense(16, input_dim = X_train.shape[1], activation = 'relu'), \n",
    "    tf.keras.layers.Dense(y_train.shape[1], activation='softmax')\n",
    "])\n",
    "\n",
    "model.compile(loss = 'categorical_crossentropy', optimizer = 'adam', metrics = ['accuracy'])"
   ]
  },
  {
   "cell_type": "code",
   "execution_count": 21,
   "id": "5069110f",
   "metadata": {},
   "outputs": [
    {
     "name": "stdout",
     "output_type": "stream",
     "text": [
      "Epoch 1/20\n",
      "348/348 [==============================] - 4s 4ms/step - loss: 1.4552 - accuracy: 0.4244 - val_loss: 1.2566 - val_accuracy: 0.4996\n",
      "Epoch 2/20\n",
      "348/348 [==============================] - 1s 3ms/step - loss: 1.2129 - accuracy: 0.5006 - val_loss: 1.1742 - val_accuracy: 0.4989\n",
      "Epoch 3/20\n",
      "348/348 [==============================] - 1s 2ms/step - loss: 1.1532 - accuracy: 0.5094 - val_loss: 1.1223 - val_accuracy: 0.5180\n",
      "Epoch 4/20\n",
      "348/348 [==============================] - 1s 3ms/step - loss: 1.1150 - accuracy: 0.5320 - val_loss: 1.0907 - val_accuracy: 0.5324\n",
      "Epoch 5/20\n",
      "348/348 [==============================] - 1s 3ms/step - loss: 1.0917 - accuracy: 0.5432 - val_loss: 1.0744 - val_accuracy: 0.5439\n",
      "Epoch 6/20\n",
      "348/348 [==============================] - 1s 3ms/step - loss: 1.0784 - accuracy: 0.5438 - val_loss: 1.0686 - val_accuracy: 0.5342\n",
      "Epoch 7/20\n",
      "348/348 [==============================] - 1s 3ms/step - loss: 1.0705 - accuracy: 0.5467 - val_loss: 1.0593 - val_accuracy: 0.5421\n",
      "Epoch 8/20\n",
      "348/348 [==============================] - 1s 3ms/step - loss: 1.0637 - accuracy: 0.5482 - val_loss: 1.0577 - val_accuracy: 0.5410\n",
      "Epoch 9/20\n",
      "348/348 [==============================] - 1s 3ms/step - loss: 1.0597 - accuracy: 0.5465 - val_loss: 1.0541 - val_accuracy: 0.5418\n",
      "Epoch 10/20\n",
      "348/348 [==============================] - 1s 3ms/step - loss: 1.0563 - accuracy: 0.5486 - val_loss: 1.0514 - val_accuracy: 0.5349\n",
      "Epoch 11/20\n",
      "348/348 [==============================] - 1s 3ms/step - loss: 1.0534 - accuracy: 0.5491 - val_loss: 1.0501 - val_accuracy: 0.5457\n",
      "Epoch 12/20\n",
      "348/348 [==============================] - 1s 3ms/step - loss: 1.0512 - accuracy: 0.5477 - val_loss: 1.0492 - val_accuracy: 0.5432\n",
      "Epoch 13/20\n",
      "348/348 [==============================] - 1s 3ms/step - loss: 1.0490 - accuracy: 0.5494 - val_loss: 1.0483 - val_accuracy: 0.5407\n",
      "Epoch 14/20\n",
      "348/348 [==============================] - 1s 3ms/step - loss: 1.0478 - accuracy: 0.5492 - val_loss: 1.0472 - val_accuracy: 0.5371\n",
      "Epoch 15/20\n",
      "348/348 [==============================] - 1s 3ms/step - loss: 1.0463 - accuracy: 0.5521 - val_loss: 1.0478 - val_accuracy: 0.5493\n",
      "Epoch 16/20\n",
      "348/348 [==============================] - 1s 3ms/step - loss: 1.0448 - accuracy: 0.5491 - val_loss: 1.0479 - val_accuracy: 0.5450\n",
      "Epoch 17/20\n",
      "348/348 [==============================] - 1s 3ms/step - loss: 1.0441 - accuracy: 0.5495 - val_loss: 1.0467 - val_accuracy: 0.5364\n",
      "Epoch 18/20\n",
      "348/348 [==============================] - 1s 3ms/step - loss: 1.0420 - accuracy: 0.5519 - val_loss: 1.0469 - val_accuracy: 0.5407\n",
      "Epoch 19/20\n",
      "348/348 [==============================] - 1s 3ms/step - loss: 1.0412 - accuracy: 0.5532 - val_loss: 1.0494 - val_accuracy: 0.5432\n",
      "Epoch 20/20\n",
      "348/348 [==============================] - 1s 3ms/step - loss: 1.0408 - accuracy: 0.5522 - val_loss: 1.0449 - val_accuracy: 0.5439\n"
     ]
    }
   ],
   "source": [
    "history = model.fit(X_train, y_train, epochs=20, validation_split=0.2, verbose=1)"
   ]
  },
  {
   "cell_type": "code",
   "execution_count": 22,
   "id": "0e51ab33",
   "metadata": {},
   "outputs": [
    {
     "name": "stdout",
     "output_type": "stream",
     "text": [
      "109/109 [==============================] - 0s 1ms/step\n"
     ]
    }
   ],
   "source": [
    "# Make predictions and save in dataframe\n",
    "yp = model.predict(X_test)\n",
    "yp = pd.DataFrame(yp,columns=ytest.columns)\n",
    "\n",
    "# Extract predicted labels and probabilities\n",
    "predicted_label = yp.idxmax(axis=1)\n",
    "predicted_prob = yp.max(axis=1)\n",
    "actual_label = y_test.idxmax(axis=1)"
   ]
  },
  {
   "cell_type": "code",
   "execution_count": 24,
   "id": "fc206062",
   "metadata": {},
   "outputs": [
    {
     "data": {
      "text/html": [
       "<div>\n",
       "<style scoped>\n",
       "    .dataframe tbody tr th:only-of-type {\n",
       "        vertical-align: middle;\n",
       "    }\n",
       "\n",
       "    .dataframe tbody tr th {\n",
       "        vertical-align: top;\n",
       "    }\n",
       "\n",
       "    .dataframe thead th {\n",
       "        text-align: right;\n",
       "    }\n",
       "</style>\n",
       "<table border=\"1\" class=\"dataframe\">\n",
       "  <thead>\n",
       "    <tr style=\"text-align: right;\">\n",
       "      <th></th>\n",
       "      <th>Pastry</th>\n",
       "      <th>Z_Scratch</th>\n",
       "      <th>K_Scatch</th>\n",
       "      <th>Stains</th>\n",
       "      <th>Dirtiness</th>\n",
       "      <th>Bumps</th>\n",
       "      <th>Other_Faults</th>\n",
       "      <th>Actual fault</th>\n",
       "    </tr>\n",
       "  </thead>\n",
       "  <tbody>\n",
       "    <tr>\n",
       "      <th>0</th>\n",
       "      <td>0.045661</td>\n",
       "      <td>0.034656</td>\n",
       "      <td>0.088431</td>\n",
       "      <td>1.275463e-02</td>\n",
       "      <td>0.025051</td>\n",
       "      <td>0.398205</td>\n",
       "      <td>0.395241</td>\n",
       "      <td>Other_Faults</td>\n",
       "    </tr>\n",
       "    <tr>\n",
       "      <th>1</th>\n",
       "      <td>0.245439</td>\n",
       "      <td>0.016283</td>\n",
       "      <td>0.037299</td>\n",
       "      <td>4.651788e-08</td>\n",
       "      <td>0.262002</td>\n",
       "      <td>0.069867</td>\n",
       "      <td>0.369110</td>\n",
       "      <td>Dirtiness</td>\n",
       "    </tr>\n",
       "    <tr>\n",
       "      <th>2</th>\n",
       "      <td>0.254084</td>\n",
       "      <td>0.000334</td>\n",
       "      <td>0.001330</td>\n",
       "      <td>1.149242e-04</td>\n",
       "      <td>0.028489</td>\n",
       "      <td>0.128222</td>\n",
       "      <td>0.587425</td>\n",
       "      <td>Other_Faults</td>\n",
       "    </tr>\n",
       "    <tr>\n",
       "      <th>3</th>\n",
       "      <td>0.004157</td>\n",
       "      <td>0.021684</td>\n",
       "      <td>0.057055</td>\n",
       "      <td>1.517468e-03</td>\n",
       "      <td>0.005196</td>\n",
       "      <td>0.354609</td>\n",
       "      <td>0.555781</td>\n",
       "      <td>Other_Faults</td>\n",
       "    </tr>\n",
       "    <tr>\n",
       "      <th>4</th>\n",
       "      <td>0.135485</td>\n",
       "      <td>0.022825</td>\n",
       "      <td>0.103978</td>\n",
       "      <td>6.996741e-08</td>\n",
       "      <td>0.132990</td>\n",
       "      <td>0.088683</td>\n",
       "      <td>0.516040</td>\n",
       "      <td>Other_Faults</td>\n",
       "    </tr>\n",
       "    <tr>\n",
       "      <th>...</th>\n",
       "      <td>...</td>\n",
       "      <td>...</td>\n",
       "      <td>...</td>\n",
       "      <td>...</td>\n",
       "      <td>...</td>\n",
       "      <td>...</td>\n",
       "      <td>...</td>\n",
       "      <td>...</td>\n",
       "    </tr>\n",
       "    <tr>\n",
       "      <th>3468</th>\n",
       "      <td>0.015930</td>\n",
       "      <td>0.011593</td>\n",
       "      <td>0.060033</td>\n",
       "      <td>1.188243e-01</td>\n",
       "      <td>0.014877</td>\n",
       "      <td>0.281428</td>\n",
       "      <td>0.497315</td>\n",
       "      <td>K_Scatch</td>\n",
       "    </tr>\n",
       "    <tr>\n",
       "      <th>3469</th>\n",
       "      <td>0.169603</td>\n",
       "      <td>0.020264</td>\n",
       "      <td>0.009165</td>\n",
       "      <td>1.326996e-04</td>\n",
       "      <td>0.050568</td>\n",
       "      <td>0.181036</td>\n",
       "      <td>0.569232</td>\n",
       "      <td>Pastry</td>\n",
       "    </tr>\n",
       "    <tr>\n",
       "      <th>3470</th>\n",
       "      <td>0.182796</td>\n",
       "      <td>0.002432</td>\n",
       "      <td>0.000703</td>\n",
       "      <td>4.168545e-04</td>\n",
       "      <td>0.014417</td>\n",
       "      <td>0.417333</td>\n",
       "      <td>0.381903</td>\n",
       "      <td>Bumps</td>\n",
       "    </tr>\n",
       "    <tr>\n",
       "      <th>3471</th>\n",
       "      <td>0.098422</td>\n",
       "      <td>0.004925</td>\n",
       "      <td>0.000565</td>\n",
       "      <td>8.900506e-05</td>\n",
       "      <td>0.003279</td>\n",
       "      <td>0.517029</td>\n",
       "      <td>0.375690</td>\n",
       "      <td>Bumps</td>\n",
       "    </tr>\n",
       "    <tr>\n",
       "      <th>3472</th>\n",
       "      <td>0.026606</td>\n",
       "      <td>0.006116</td>\n",
       "      <td>0.001117</td>\n",
       "      <td>9.315894e-03</td>\n",
       "      <td>0.015229</td>\n",
       "      <td>0.560570</td>\n",
       "      <td>0.381047</td>\n",
       "      <td>Bumps</td>\n",
       "    </tr>\n",
       "  </tbody>\n",
       "</table>\n",
       "<p>3473 rows × 8 columns</p>\n",
       "</div>"
      ],
      "text/plain": [
       "        Pastry  Z_Scratch  K_Scatch        Stains  Dirtiness     Bumps  \\\n",
       "0     0.045661   0.034656  0.088431  1.275463e-02   0.025051  0.398205   \n",
       "1     0.245439   0.016283  0.037299  4.651788e-08   0.262002  0.069867   \n",
       "2     0.254084   0.000334  0.001330  1.149242e-04   0.028489  0.128222   \n",
       "3     0.004157   0.021684  0.057055  1.517468e-03   0.005196  0.354609   \n",
       "4     0.135485   0.022825  0.103978  6.996741e-08   0.132990  0.088683   \n",
       "...        ...        ...       ...           ...        ...       ...   \n",
       "3468  0.015930   0.011593  0.060033  1.188243e-01   0.014877  0.281428   \n",
       "3469  0.169603   0.020264  0.009165  1.326996e-04   0.050568  0.181036   \n",
       "3470  0.182796   0.002432  0.000703  4.168545e-04   0.014417  0.417333   \n",
       "3471  0.098422   0.004925  0.000565  8.900506e-05   0.003279  0.517029   \n",
       "3472  0.026606   0.006116  0.001117  9.315894e-03   0.015229  0.560570   \n",
       "\n",
       "      Other_Faults  Actual fault  \n",
       "0         0.395241  Other_Faults  \n",
       "1         0.369110     Dirtiness  \n",
       "2         0.587425  Other_Faults  \n",
       "3         0.555781  Other_Faults  \n",
       "4         0.516040  Other_Faults  \n",
       "...            ...           ...  \n",
       "3468      0.497315      K_Scatch  \n",
       "3469      0.569232        Pastry  \n",
       "3470      0.381903         Bumps  \n",
       "3471      0.375690         Bumps  \n",
       "3472      0.381047         Bumps  \n",
       "\n",
       "[3473 rows x 8 columns]"
      ]
     },
     "execution_count": 24,
     "metadata": {},
     "output_type": "execute_result"
    }
   ],
   "source": [
    "yp['Actual fault'] = actual_label.values\n",
    "yp"
   ]
  },
  {
   "cell_type": "code",
   "execution_count": 25,
   "id": "a923b51f",
   "metadata": {},
   "outputs": [
    {
     "data": {
      "image/png": "[encoded data removed]",
      "text/plain": [
       "<Figure size 640x480 with 2 Axes>"
      ]
     },
     "metadata": {},
     "output_type": "display_data"
    }
   ],
   "source": [
    "cm = confusion_matrix(predicted_label,actual_label)\n",
    "sns.heatmap(cm,annot=True)\n",
    "plt.show()"
   ]
  },
  {
   "cell_type": "code",
   "execution_count": 26,
   "id": "8db1f928",
   "metadata": {},
   "outputs": [],
   "source": [
    "from sklearn.ensemble import RandomForestClassifier"
   ]
  },
  {
   "cell_type": "code",
   "execution_count": 27,
   "id": "9c131e4a",
   "metadata": {},
   "outputs": [],
   "source": [
    "rfc = RandomForestClassifier(random_state = 45)\n",
    "\n",
    "param_grid_rfc = {\n",
    "    'max_depth' : [5, 10, 15, 25],\n",
    "    'n_estimators' : [50, 100, 250, 500],\n",
    "    'min_samples_split' : [5, 10, 15, 20]\n",
    "}"
   ]
  },
  {
   "cell_type": "code",
   "execution_count": 29,
   "id": "42c104b0",
   "metadata": {},
   "outputs": [],
   "source": [
    "from sklearn.model_selection import GridSearchCV"
   ]
  },
  {
   "cell_type": "code",
   "execution_count": 30,
   "id": "37428bdb",
   "metadata": {},
   "outputs": [],
   "source": [
    "rfr_cv = GridSearchCV(rfc, param_grid_rfc, cv = 5, scoring = 'accuracy', n_jobs = -1)"
   ]
  },
  {
   "cell_type": "code",
   "execution_count": 31,
   "id": "962a8704",
   "metadata": {},
   "outputs": [
    {
     "data": {
      "text/html": [
       "<style>#sk-container-id-1 {color: black;}#sk-container-id-1 pre{padding: 0;}#sk-container-id-1 div.sk-toggleable {background-color: white;}#sk-container-id-1 label.sk-toggleable__label {cursor: pointer;display: block;width: 100%;margin-bottom: 0;padding: 0.3em;box-sizing: border-box;text-align: center;}#sk-container-id-1 label.sk-toggleable__label-arrow:before {content: \"▸\";float: left;margin-right: 0.25em;color: #696969;}#sk-container-id-1 label.sk-toggleable__label-arrow:hover:before {color: black;}#sk-container-id-1 div.sk-estimator:hover label.sk-toggleable__label-arrow:before {color: black;}#sk-container-id-1 div.sk-toggleable__content {max-height: 0;max-width: 0;overflow: hidden;text-align: left;background-color: #f0f8ff;}#sk-container-id-1 div.sk-toggleable__content pre {margin: 0.2em;color: black;border-radius: 0.25em;background-color: #f0f8ff;}#sk-container-id-1 input.sk-toggleable__control:checked~div.sk-toggleable__content {max-height: 200px;max-width: 100%;overflow: auto;}#sk-container-id-1 input.sk-toggleable__control:checked~label.sk-toggleable__label-arrow:before {content: \"▾\";}#sk-container-id-1 div.sk-estimator input.sk-toggleable__control:checked~label.sk-toggleable__label {background-color: #d4ebff;}#sk-container-id-1 div.sk-label input.sk-toggleable__control:checked~label.sk-toggleable__label {background-color: #d4ebff;}#sk-container-id-1 input.sk-hidden--visually {border: 0;clip: rect(1px 1px 1px 1px);clip: rect(1px, 1px, 1px, 1px);height: 1px;margin: -1px;overflow: hidden;padding: 0;position: absolute;width: 1px;}#sk-container-id-1 div.sk-estimator {font-family: monospace;background-color: #f0f8ff;border: 1px dotted black;border-radius: 0.25em;box-sizing: border-box;margin-bottom: 0.5em;}#sk-container-id-1 div.sk-estimator:hover {background-color: #d4ebff;}#sk-container-id-1 div.sk-parallel-item::after {content: \"\";width: 100%;border-bottom: 1px solid gray;flex-grow: 1;}#sk-container-id-1 div.sk-label:hover label.sk-toggleable__label {background-color: #d4ebff;}#sk-container-id-1 div.sk-serial::before {content: \"\";position: absolute;border-left: 1px solid gray;box-sizing: border-box;top: 0;bottom: 0;left: 50%;z-index: 0;}#sk-container-id-1 div.sk-serial {display: flex;flex-direction: column;align-items: center;background-color: white;padding-right: 0.2em;padding-left: 0.2em;position: relative;}#sk-container-id-1 div.sk-item {position: relative;z-index: 1;}#sk-container-id-1 div.sk-parallel {display: flex;align-items: stretch;justify-content: center;background-color: white;position: relative;}#sk-container-id-1 div.sk-item::before, #sk-container-id-1 div.sk-parallel-item::before {content: \"\";position: absolute;border-left: 1px solid gray;box-sizing: border-box;top: 0;bottom: 0;left: 50%;z-index: -1;}#sk-container-id-1 div.sk-parallel-item {display: flex;flex-direction: column;z-index: 1;position: relative;background-color: white;}#sk-container-id-1 div.sk-parallel-item:first-child::after {align-self: flex-end;width: 50%;}#sk-container-id-1 div.sk-parallel-item:last-child::after {align-self: flex-start;width: 50%;}#sk-container-id-1 div.sk-parallel-item:only-child::after {width: 0;}#sk-container-id-1 div.sk-dashed-wrapped {border: 1px dashed gray;margin: 0 0.4em 0.5em 0.4em;box-sizing: border-box;padding-bottom: 0.4em;background-color: white;}#sk-container-id-1 div.sk-label label {font-family: monospace;font-weight: bold;display: inline-block;line-height: 1.2em;}#sk-container-id-1 div.sk-label-container {text-align: center;}#sk-container-id-1 div.sk-container {/* jupyter's `normalize.less` sets `[hidden] { display: none; }` but bootstrap.min.css set `[hidden] { display: none !important; }` so we also need the `!important` here to be able to override the default hidden behavior on the sphinx rendered scikit-learn.org. See: https://github.com/scikit-learn/scikit-learn/issues/21755 */display: inline-block !important;position: relative;}#sk-container-id-1 div.sk-text-repr-fallback {display: none;}</style><div id=\"sk-container-id-1\" class=\"sk-top-container\"><div class=\"sk-text-repr-fallback\"><pre>GridSearchCV(cv=5, estimator=RandomForestClassifier(random_state=45), n_jobs=-1,\n",
       "             param_grid={&#x27;max_depth&#x27;: [5, 10, 15, 25],\n",
       "                         &#x27;min_samples_split&#x27;: [5, 10, 15, 20],\n",
       "                         &#x27;n_estimators&#x27;: [50, 100, 250, 500]},\n",
       "             scoring=&#x27;accuracy&#x27;)</pre><b>In a Jupyter environment, please rerun this cell to show the HTML representation or trust the notebook. <br />On GitHub, the HTML representation is unable to render, please try loading this page with nbviewer.org.</b></div><div class=\"sk-container\" hidden><div class=\"sk-item sk-dashed-wrapped\"><div class=\"sk-label-container\"><div class=\"sk-label sk-toggleable\"><input class=\"sk-toggleable__control sk-hidden--visually\" id=\"sk-estimator-id-1\" type=\"checkbox\" ><label for=\"sk-estimator-id-1\" class=\"sk-toggleable__label sk-toggleable__label-arrow\">GridSearchCV</label><div class=\"sk-toggleable__content\"><pre>GridSearchCV(cv=5, estimator=RandomForestClassifier(random_state=45), n_jobs=-1,\n",
       "             param_grid={&#x27;max_depth&#x27;: [5, 10, 15, 25],\n",
       "                         &#x27;min_samples_split&#x27;: [5, 10, 15, 20],\n",
       "                         &#x27;n_estimators&#x27;: [50, 100, 250, 500]},\n",
       "             scoring=&#x27;accuracy&#x27;)</pre></div></div></div><div class=\"sk-parallel\"><div class=\"sk-parallel-item\"><div class=\"sk-item\"><div class=\"sk-label-container\"><div class=\"sk-label sk-toggleable\"><input class=\"sk-toggleable__control sk-hidden--visually\" id=\"sk-estimator-id-2\" type=\"checkbox\" ><label for=\"sk-estimator-id-2\" class=\"sk-toggleable__label sk-toggleable__label-arrow\">estimator: RandomForestClassifier</label><div class=\"sk-toggleable__content\"><pre>RandomForestClassifier(random_state=45)</pre></div></div></div><div class=\"sk-serial\"><div class=\"sk-item\"><div class=\"sk-estimator sk-toggleable\"><input class=\"sk-toggleable__control sk-hidden--visually\" id=\"sk-estimator-id-3\" type=\"checkbox\" ><label for=\"sk-estimator-id-3\" class=\"sk-toggleable__label sk-toggleable__label-arrow\">RandomForestClassifier</label><div class=\"sk-toggleable__content\"><pre>RandomForestClassifier(random_state=45)</pre></div></div></div></div></div></div></div></div></div></div>"
      ],
      "text/plain": [
       "GridSearchCV(cv=5, estimator=RandomForestClassifier(random_state=45), n_jobs=-1,\n",
       "             param_grid={'max_depth': [5, 10, 15, 25],\n",
       "                         'min_samples_split': [5, 10, 15, 20],\n",
       "                         'n_estimators': [50, 100, 250, 500]},\n",
       "             scoring='accuracy')"
      ]
     },
     "execution_count": 31,
     "metadata": {},
     "output_type": "execute_result"
    }
   ],
   "source": [
    "rfr_cv.fit(X_train, y_train)"
   ]
  },
  {
   "cell_type": "code",
   "execution_count": 32,
   "id": "415b6159",
   "metadata": {},
   "outputs": [
    {
     "data": {
      "text/plain": [
       "{'max_depth': 25, 'min_samples_split': 5, 'n_estimators': 50}"
      ]
     },
     "execution_count": 32,
     "metadata": {},
     "output_type": "execute_result"
    }
   ],
   "source": [
    "rfr_cv.best_params_"
   ]
  },
  {
   "cell_type": "code",
   "execution_count": 33,
   "id": "d92f3547",
   "metadata": {},
   "outputs": [
    {
     "data": {
      "text/html": [
       "<style>#sk-container-id-2 {color: black;}#sk-container-id-2 pre{padding: 0;}#sk-container-id-2 div.sk-toggleable {background-color: white;}#sk-container-id-2 label.sk-toggleable__label {cursor: pointer;display: block;width: 100%;margin-bottom: 0;padding: 0.3em;box-sizing: border-box;text-align: center;}#sk-container-id-2 label.sk-toggleable__label-arrow:before {content: \"▸\";float: left;margin-right: 0.25em;color: #696969;}#sk-container-id-2 label.sk-toggleable__label-arrow:hover:before {color: black;}#sk-container-id-2 div.sk-estimator:hover label.sk-toggleable__label-arrow:before {color: black;}#sk-container-id-2 div.sk-toggleable__content {max-height: 0;max-width: 0;overflow: hidden;text-align: left;background-color: #f0f8ff;}#sk-container-id-2 div.sk-toggleable__content pre {margin: 0.2em;color: black;border-radius: 0.25em;background-color: #f0f8ff;}#sk-container-id-2 input.sk-toggleable__control:checked~div.sk-toggleable__content {max-height: 200px;max-width: 100%;overflow: auto;}#sk-container-id-2 input.sk-toggleable__control:checked~label.sk-toggleable__label-arrow:before {content: \"▾\";}#sk-container-id-2 div.sk-estimator input.sk-toggleable__control:checked~label.sk-toggleable__label {background-color: #d4ebff;}#sk-container-id-2 div.sk-label input.sk-toggleable__control:checked~label.sk-toggleable__label {background-color: #d4ebff;}#sk-container-id-2 input.sk-hidden--visually {border: 0;clip: rect(1px 1px 1px 1px);clip: rect(1px, 1px, 1px, 1px);height: 1px;margin: -1px;overflow: hidden;padding: 0;position: absolute;width: 1px;}#sk-container-id-2 div.sk-estimator {font-family: monospace;background-color: #f0f8ff;border: 1px dotted black;border-radius: 0.25em;box-sizing: border-box;margin-bottom: 0.5em;}#sk-container-id-2 div.sk-estimator:hover {background-color: #d4ebff;}#sk-container-id-2 div.sk-parallel-item::after {content: \"\";width: 100%;border-bottom: 1px solid gray;flex-grow: 1;}#sk-container-id-2 div.sk-label:hover label.sk-toggleable__label {background-color: #d4ebff;}#sk-container-id-2 div.sk-serial::before {content: \"\";position: absolute;border-left: 1px solid gray;box-sizing: border-box;top: 0;bottom: 0;left: 50%;z-index: 0;}#sk-container-id-2 div.sk-serial {display: flex;flex-direction: column;align-items: center;background-color: white;padding-right: 0.2em;padding-left: 0.2em;position: relative;}#sk-container-id-2 div.sk-item {position: relative;z-index: 1;}#sk-container-id-2 div.sk-parallel {display: flex;align-items: stretch;justify-content: center;background-color: white;position: relative;}#sk-container-id-2 div.sk-item::before, #sk-container-id-2 div.sk-parallel-item::before {content: \"\";position: absolute;border-left: 1px solid gray;box-sizing: border-box;top: 0;bottom: 0;left: 50%;z-index: -1;}#sk-container-id-2 div.sk-parallel-item {display: flex;flex-direction: column;z-index: 1;position: relative;background-color: white;}#sk-container-id-2 div.sk-parallel-item:first-child::after {align-self: flex-end;width: 50%;}#sk-container-id-2 div.sk-parallel-item:last-child::after {align-self: flex-start;width: 50%;}#sk-container-id-2 div.sk-parallel-item:only-child::after {width: 0;}#sk-container-id-2 div.sk-dashed-wrapped {border: 1px dashed gray;margin: 0 0.4em 0.5em 0.4em;box-sizing: border-box;padding-bottom: 0.4em;background-color: white;}#sk-container-id-2 div.sk-label label {font-family: monospace;font-weight: bold;display: inline-block;line-height: 1.2em;}#sk-container-id-2 div.sk-label-container {text-align: center;}#sk-container-id-2 div.sk-container {/* jupyter's `normalize.less` sets `[hidden] { display: none; }` but bootstrap.min.css set `[hidden] { display: none !important; }` so we also need the `!important` here to be able to override the default hidden behavior on the sphinx rendered scikit-learn.org. See: https://github.com/scikit-learn/scikit-learn/issues/21755 */display: inline-block !important;position: relative;}#sk-container-id-2 div.sk-text-repr-fallback {display: none;}</style><div id=\"sk-container-id-2\" class=\"sk-top-container\"><div class=\"sk-text-repr-fallback\"><pre>RandomForestClassifier(max_depth=25, min_samples_split=5, n_estimators=50)</pre><b>In a Jupyter environment, please rerun this cell to show the HTML representation or trust the notebook. <br />On GitHub, the HTML representation is unable to render, please try loading this page with nbviewer.org.</b></div><div class=\"sk-container\" hidden><div class=\"sk-item\"><div class=\"sk-estimator sk-toggleable\"><input class=\"sk-toggleable__control sk-hidden--visually\" id=\"sk-estimator-id-4\" type=\"checkbox\" checked><label for=\"sk-estimator-id-4\" class=\"sk-toggleable__label sk-toggleable__label-arrow\">RandomForestClassifier</label><div class=\"sk-toggleable__content\"><pre>RandomForestClassifier(max_depth=25, min_samples_split=5, n_estimators=50)</pre></div></div></div></div></div>"
      ],
      "text/plain": [
       "RandomForestClassifier(max_depth=25, min_samples_split=5, n_estimators=50)"
      ]
     },
     "execution_count": 33,
     "metadata": {},
     "output_type": "execute_result"
    }
   ],
   "source": [
    "# Best parameters\n",
    "rfr_f = RandomForestClassifier(max_depth= 25, min_samples_split=5, n_estimators = 50)\n",
    "rfr_f.fit(X_train, y_train)"
   ]
  },
  {
   "cell_type": "code",
   "execution_count": 35,
   "id": "bc1aabbe",
   "metadata": {},
   "outputs": [],
   "source": [
    "from sklearn.metrics import accuracy_score"
   ]
  },
  {
   "cell_type": "code",
   "execution_count": 36,
   "id": "d40f6eb3",
   "metadata": {},
   "outputs": [
    {
     "data": {
      "text/plain": [
       "0.36625395911315867"
      ]
     },
     "execution_count": 36,
     "metadata": {},
     "output_type": "execute_result"
    }
   ],
   "source": [
    "y_pred = rfr_f.predict(X_test)\n",
    "accuracy_score(y_test, y_pred)"
   ]
  },
  {
   "cell_type": "code",
   "execution_count": 37,
   "id": "3fc662f4",
   "metadata": {},
   "outputs": [
    {
     "data": {
      "text/html": [
       "<div>\n",
       "<style scoped>\n",
       "    .dataframe tbody tr th:only-of-type {\n",
       "        vertical-align: middle;\n",
       "    }\n",
       "\n",
       "    .dataframe tbody tr th {\n",
       "        vertical-align: top;\n",
       "    }\n",
       "\n",
       "    .dataframe thead th {\n",
       "        text-align: right;\n",
       "    }\n",
       "</style>\n",
       "<table border=\"1\" class=\"dataframe\">\n",
       "  <thead>\n",
       "    <tr style=\"text-align: right;\">\n",
       "      <th></th>\n",
       "      <th>Pastry</th>\n",
       "      <th>Z_Scratch</th>\n",
       "      <th>K_Scatch</th>\n",
       "      <th>Stains</th>\n",
       "      <th>Dirtiness</th>\n",
       "      <th>Bumps</th>\n",
       "      <th>Other_Faults</th>\n",
       "    </tr>\n",
       "  </thead>\n",
       "  <tbody>\n",
       "    <tr>\n",
       "      <th>15107</th>\n",
       "      <td>0.0</td>\n",
       "      <td>0.0</td>\n",
       "      <td>0.0</td>\n",
       "      <td>0.0</td>\n",
       "      <td>0.0</td>\n",
       "      <td>0.0</td>\n",
       "      <td>1.0</td>\n",
       "    </tr>\n",
       "    <tr>\n",
       "      <th>9600</th>\n",
       "      <td>0.0</td>\n",
       "      <td>0.0</td>\n",
       "      <td>0.0</td>\n",
       "      <td>0.0</td>\n",
       "      <td>1.0</td>\n",
       "      <td>0.0</td>\n",
       "      <td>0.0</td>\n",
       "    </tr>\n",
       "    <tr>\n",
       "      <th>1098</th>\n",
       "      <td>0.0</td>\n",
       "      <td>0.0</td>\n",
       "      <td>0.0</td>\n",
       "      <td>0.0</td>\n",
       "      <td>0.0</td>\n",
       "      <td>0.0</td>\n",
       "      <td>1.0</td>\n",
       "    </tr>\n",
       "    <tr>\n",
       "      <th>12168</th>\n",
       "      <td>0.0</td>\n",
       "      <td>0.0</td>\n",
       "      <td>0.0</td>\n",
       "      <td>0.0</td>\n",
       "      <td>0.0</td>\n",
       "      <td>0.0</td>\n",
       "      <td>1.0</td>\n",
       "    </tr>\n",
       "    <tr>\n",
       "      <th>14402</th>\n",
       "      <td>0.0</td>\n",
       "      <td>0.0</td>\n",
       "      <td>0.0</td>\n",
       "      <td>0.0</td>\n",
       "      <td>0.0</td>\n",
       "      <td>0.0</td>\n",
       "      <td>1.0</td>\n",
       "    </tr>\n",
       "    <tr>\n",
       "      <th>...</th>\n",
       "      <td>...</td>\n",
       "      <td>...</td>\n",
       "      <td>...</td>\n",
       "      <td>...</td>\n",
       "      <td>...</td>\n",
       "      <td>...</td>\n",
       "      <td>...</td>\n",
       "    </tr>\n",
       "    <tr>\n",
       "      <th>4055</th>\n",
       "      <td>0.0</td>\n",
       "      <td>0.0</td>\n",
       "      <td>1.0</td>\n",
       "      <td>0.0</td>\n",
       "      <td>0.0</td>\n",
       "      <td>0.0</td>\n",
       "      <td>0.0</td>\n",
       "    </tr>\n",
       "    <tr>\n",
       "      <th>7356</th>\n",
       "      <td>1.0</td>\n",
       "      <td>0.0</td>\n",
       "      <td>0.0</td>\n",
       "      <td>0.0</td>\n",
       "      <td>0.0</td>\n",
       "      <td>0.0</td>\n",
       "      <td>0.0</td>\n",
       "    </tr>\n",
       "    <tr>\n",
       "      <th>4230</th>\n",
       "      <td>0.0</td>\n",
       "      <td>0.0</td>\n",
       "      <td>0.0</td>\n",
       "      <td>0.0</td>\n",
       "      <td>0.0</td>\n",
       "      <td>1.0</td>\n",
       "      <td>0.0</td>\n",
       "    </tr>\n",
       "    <tr>\n",
       "      <th>249</th>\n",
       "      <td>0.0</td>\n",
       "      <td>0.0</td>\n",
       "      <td>0.0</td>\n",
       "      <td>0.0</td>\n",
       "      <td>0.0</td>\n",
       "      <td>1.0</td>\n",
       "      <td>0.0</td>\n",
       "    </tr>\n",
       "    <tr>\n",
       "      <th>15596</th>\n",
       "      <td>0.0</td>\n",
       "      <td>0.0</td>\n",
       "      <td>0.0</td>\n",
       "      <td>0.0</td>\n",
       "      <td>0.0</td>\n",
       "      <td>1.0</td>\n",
       "      <td>0.0</td>\n",
       "    </tr>\n",
       "  </tbody>\n",
       "</table>\n",
       "<p>3473 rows × 7 columns</p>\n",
       "</div>"
      ],
      "text/plain": [
       "       Pastry  Z_Scratch  K_Scatch  Stains  Dirtiness  Bumps  Other_Faults\n",
       "15107     0.0        0.0       0.0     0.0        0.0    0.0           1.0\n",
       "9600      0.0        0.0       0.0     0.0        1.0    0.0           0.0\n",
       "1098      0.0        0.0       0.0     0.0        0.0    0.0           1.0\n",
       "12168     0.0        0.0       0.0     0.0        0.0    0.0           1.0\n",
       "14402     0.0        0.0       0.0     0.0        0.0    0.0           1.0\n",
       "...       ...        ...       ...     ...        ...    ...           ...\n",
       "4055      0.0        0.0       1.0     0.0        0.0    0.0           0.0\n",
       "7356      1.0        0.0       0.0     0.0        0.0    0.0           0.0\n",
       "4230      0.0        0.0       0.0     0.0        0.0    1.0           0.0\n",
       "249       0.0        0.0       0.0     0.0        0.0    1.0           0.0\n",
       "15596     0.0        0.0       0.0     0.0        0.0    1.0           0.0\n",
       "\n",
       "[3473 rows x 7 columns]"
      ]
     },
     "execution_count": 37,
     "metadata": {},
     "output_type": "execute_result"
    }
   ],
   "source": [
    "y_test"
   ]
  },
  {
   "cell_type": "code",
   "execution_count": 39,
   "id": "aaca7de3",
   "metadata": {},
   "outputs": [
    {
     "name": "stdout",
     "output_type": "stream",
     "text": [
      "[[0. 0. 0. ... 0. 0. 0.]\n",
      " [0. 0. 0. ... 0. 0. 0.]\n",
      " [0. 0. 0. ... 0. 0. 1.]\n",
      " ...\n",
      " [0. 0. 0. ... 0. 0. 0.]\n",
      " [0. 0. 0. ... 0. 0. 0.]\n",
      " [0. 0. 0. ... 0. 1. 0.]]\n"
     ]
    }
   ],
   "source": [
    "print(y_pred)"
   ]
  },
  {
   "cell_type": "code",
   "execution_count": null,
   "id": "6d4aeec9",
   "metadata": {},
   "outputs": [],
   "source": []
  }
 ],
 "metadata": {
  "kernelspec": {
   "display_name": "Python 3 (ipykernel)",
   "language": "python",
   "name": "python3"
  },
  "language_info": {
   "codemirror_mode": {
    "name": "ipython",
    "version": 3
   },
   "file_extension": ".py",
   "mimetype": "text/x-python",
   "name": "python",
   "nbconvert_exporter": "python",
   "pygments_lexer": "ipython3",
   "version": "3.9.18"
  }
 },
 "nbformat": 4,
 "nbformat_minor": 5
}
